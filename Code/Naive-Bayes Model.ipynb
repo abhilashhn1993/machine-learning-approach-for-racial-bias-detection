{
 "cells": [
  {
   "cell_type": "code",
   "execution_count": 1,
   "metadata": {},
   "outputs": [],
   "source": [
    "#!pip install mlxtend"
   ]
  },
  {
   "cell_type": "code",
   "execution_count": 73,
   "metadata": {},
   "outputs": [],
   "source": [
    "import pandas as pd\n",
    "import numpy as np\n",
    "import os\n",
    "import matplotlib.pyplot as plt"
   ]
  },
  {
   "cell_type": "code",
   "execution_count": 3,
   "metadata": {},
   "outputs": [],
   "source": [
    "def get_num_cols(data):\n",
    "    cols = data.columns\n",
    "    num_cols = data._get_numeric_data().columns\n",
    "    return num_cols"
   ]
  },
  {
   "cell_type": "code",
   "execution_count": 4,
   "metadata": {},
   "outputs": [],
   "source": [
    "def get_categorical_cols(data):\n",
    "    cols = data.columns\n",
    "    num_cols = data._get_numeric_data().columns\n",
    "    cat_cols = list(set(cols) - set(num_cols))\n",
    "    return cat_cols"
   ]
  },
  {
   "cell_type": "code",
   "execution_count": 5,
   "metadata": {},
   "outputs": [],
   "source": [
    "def get_xy_from_data(data):\n",
    "    data.arstmade = data.arstmade.astype('int')\n",
    "    y_train = data['arstmade']\n",
    "    X_train = data.loc[: , data.columns != 'arstmade']\n",
    "    return X_train, y_train"
   ]
  },
  {
   "cell_type": "code",
   "execution_count": 6,
   "metadata": {},
   "outputs": [],
   "source": [
    "def transform_target(data):\n",
    "    for i in range(len(data)):\n",
    "        if data.loc[i,'arstmade'] == 'N':\n",
    "            data.loc[i,'arstmade'] = 0\n",
    "        else:\n",
    "            data.loc[i,'arstmade'] = 1\n",
    "    return data"
   ]
  },
  {
   "cell_type": "code",
   "execution_count": 7,
   "metadata": {},
   "outputs": [],
   "source": [
    "def train_data_encoding(data):\n",
    "    #ONE HOT ENCODING OF THE TRAINING DATA\n",
    "    cat_cols = get_categorical_cols(data)\n",
    "    num_cols = get_num_cols(data)\n",
    "\n",
    "    #one-hot-encode the training data\n",
    "    df_processed = one_hot_encode_data(data)\n",
    "\n",
    "    #return the one-hot-encoded training-data\n",
    "\n",
    "    #cat_dummies - a list of all the categorical feature values \n",
    "    cat_dummies = [col for col in df_processed if \"__\" in col and col.split(\"__\")[0] in cat_cols]\n",
    "\n",
    "    processed_cols = list(df_processed.columns)\n",
    "    #processed_cols\n",
    "    \n",
    "    return cat_cols, processed_cols, cat_dummies, df_processed"
   ]
  },
  {
   "cell_type": "code",
   "execution_count": 8,
   "metadata": {},
   "outputs": [],
   "source": [
    "def one_hot_encode_data(data):\n",
    "    cat_cols = get_categorical_cols(data)\n",
    "    num_cols = get_num_cols(data)\n",
    "    dt = pd.get_dummies(data, prefix_sep=\"__\", columns=cat_cols)\n",
    "    return dt"
   ]
  },
  {
   "cell_type": "code",
   "execution_count": 9,
   "metadata": {},
   "outputs": [],
   "source": [
    "def prepare_test_data(test_data):\n",
    "    #Process the test data\n",
    "    df_test_proc = pd.get_dummies(test_data, prefix_sep=\"__\", columns=train_cat_cols)\n",
    "\n",
    "    #remove additional feature-columns from the test set\n",
    "    for col in df_test_proc.columns:\n",
    "        if(\"__\" in col) and (col.split(\"__\")[0] in train_cat_cols) and col not in train_dummies:\n",
    "            #print(\"Removing the additional features {}\".format(col))\n",
    "            df_test_proc.drop(col, axis=1, inplace=True)\n",
    "        \n",
    "    #adding missing feature-columns to the test set\n",
    "    for col in train_dummies:\n",
    "        if col not in df_test_proc.columns:\n",
    "            #print(\"adding missing feature {}\".format(col))\n",
    "            df_test_proc[col]=0\n",
    "    #reorder test data columns to match training set order\n",
    "    df_test_proc = df_test_proc.sort_index(axis=1)\n",
    "    return df_test_proc"
   ]
  },
  {
   "cell_type": "code",
   "execution_count": 10,
   "metadata": {},
   "outputs": [],
   "source": [
    "from sklearn.model_selection import train_test_split\n",
    "def train_validation_data_split(data, target, test_data_ratio, seed):\n",
    "    y = data[target]\n",
    "    X = data.loc[:, data.columns!= target]\n",
    "    \n",
    "    X_train, X_test, y_train, y_test = train_test_split(X, y, test_size=test_data_ratio, random_state=seed)\n",
    "    return X_train, X_test, y_train, y_test"
   ]
  },
  {
   "cell_type": "markdown",
   "metadata": {},
   "source": [
    "Load Data"
   ]
  },
  {
   "cell_type": "code",
   "execution_count": 11,
   "metadata": {},
   "outputs": [
    {
     "data": {
      "text/html": [
       "<div>\n",
       "<style scoped>\n",
       "    .dataframe tbody tr th:only-of-type {\n",
       "        vertical-align: middle;\n",
       "    }\n",
       "\n",
       "    .dataframe tbody tr th {\n",
       "        vertical-align: top;\n",
       "    }\n",
       "\n",
       "    .dataframe thead th {\n",
       "        text-align: right;\n",
       "    }\n",
       "</style>\n",
       "<table border=\"1\" class=\"dataframe\">\n",
       "  <thead>\n",
       "    <tr style=\"text-align: right;\">\n",
       "      <th></th>\n",
       "      <th>recstat</th>\n",
       "      <th>inout</th>\n",
       "      <th>trhsloc</th>\n",
       "      <th>crimsusp</th>\n",
       "      <th>typeofid</th>\n",
       "      <th>othpers</th>\n",
       "      <th>sumissue</th>\n",
       "      <th>offunif</th>\n",
       "      <th>frisked</th>\n",
       "      <th>searched</th>\n",
       "      <th>...</th>\n",
       "      <th>rf_knowl</th>\n",
       "      <th>sb_hdobj</th>\n",
       "      <th>sb_other</th>\n",
       "      <th>forceuse</th>\n",
       "      <th>race</th>\n",
       "      <th>age</th>\n",
       "      <th>city</th>\n",
       "      <th>weapons</th>\n",
       "      <th>physical_force</th>\n",
       "      <th>arstmade</th>\n",
       "    </tr>\n",
       "  </thead>\n",
       "  <tbody>\n",
       "    <tr>\n",
       "      <th>0</th>\n",
       "      <td>1</td>\n",
       "      <td>O</td>\n",
       "      <td>P</td>\n",
       "      <td>other</td>\n",
       "      <td>V</td>\n",
       "      <td>N</td>\n",
       "      <td>N</td>\n",
       "      <td>N</td>\n",
       "      <td>Y</td>\n",
       "      <td>N</td>\n",
       "      <td>...</td>\n",
       "      <td>N</td>\n",
       "      <td>N</td>\n",
       "      <td>N</td>\n",
       "      <td>N</td>\n",
       "      <td>W</td>\n",
       "      <td>33</td>\n",
       "      <td>BROOKLYN</td>\n",
       "      <td>N</td>\n",
       "      <td>N</td>\n",
       "      <td>N</td>\n",
       "    </tr>\n",
       "    <tr>\n",
       "      <th>1</th>\n",
       "      <td>A</td>\n",
       "      <td>O</td>\n",
       "      <td>P</td>\n",
       "      <td>other</td>\n",
       "      <td>V</td>\n",
       "      <td>N</td>\n",
       "      <td>N</td>\n",
       "      <td>N</td>\n",
       "      <td>Y</td>\n",
       "      <td>N</td>\n",
       "      <td>...</td>\n",
       "      <td>N</td>\n",
       "      <td>N</td>\n",
       "      <td>N</td>\n",
       "      <td>SF</td>\n",
       "      <td>B</td>\n",
       "      <td>14</td>\n",
       "      <td>MANHATTAN</td>\n",
       "      <td>N</td>\n",
       "      <td>Y</td>\n",
       "      <td>N</td>\n",
       "    </tr>\n",
       "    <tr>\n",
       "      <th>2</th>\n",
       "      <td>1</td>\n",
       "      <td>O</td>\n",
       "      <td>P</td>\n",
       "      <td>MISD</td>\n",
       "      <td>V</td>\n",
       "      <td>N</td>\n",
       "      <td>N</td>\n",
       "      <td>N</td>\n",
       "      <td>N</td>\n",
       "      <td>N</td>\n",
       "      <td>...</td>\n",
       "      <td>N</td>\n",
       "      <td>N</td>\n",
       "      <td>N</td>\n",
       "      <td>SF</td>\n",
       "      <td>B</td>\n",
       "      <td>14</td>\n",
       "      <td>MANHATTAN</td>\n",
       "      <td>N</td>\n",
       "      <td>Y</td>\n",
       "      <td>N</td>\n",
       "    </tr>\n",
       "    <tr>\n",
       "      <th>3</th>\n",
       "      <td>1</td>\n",
       "      <td>O</td>\n",
       "      <td>P</td>\n",
       "      <td>other</td>\n",
       "      <td>V</td>\n",
       "      <td>Y</td>\n",
       "      <td>N</td>\n",
       "      <td>N</td>\n",
       "      <td>N</td>\n",
       "      <td>N</td>\n",
       "      <td>...</td>\n",
       "      <td>N</td>\n",
       "      <td>N</td>\n",
       "      <td>N</td>\n",
       "      <td>N</td>\n",
       "      <td>B</td>\n",
       "      <td>14</td>\n",
       "      <td>MANHATTAN</td>\n",
       "      <td>N</td>\n",
       "      <td>N</td>\n",
       "      <td>N</td>\n",
       "    </tr>\n",
       "    <tr>\n",
       "      <th>4</th>\n",
       "      <td>1</td>\n",
       "      <td>O</td>\n",
       "      <td>P</td>\n",
       "      <td>other</td>\n",
       "      <td>V</td>\n",
       "      <td>Y</td>\n",
       "      <td>N</td>\n",
       "      <td>N</td>\n",
       "      <td>N</td>\n",
       "      <td>N</td>\n",
       "      <td>...</td>\n",
       "      <td>N</td>\n",
       "      <td>N</td>\n",
       "      <td>N</td>\n",
       "      <td>SF</td>\n",
       "      <td>B</td>\n",
       "      <td>13</td>\n",
       "      <td>MANHATTAN</td>\n",
       "      <td>N</td>\n",
       "      <td>Y</td>\n",
       "      <td>N</td>\n",
       "    </tr>\n",
       "  </tbody>\n",
       "</table>\n",
       "<p>5 rows × 39 columns</p>\n",
       "</div>"
      ],
      "text/plain": [
       "  recstat inout trhsloc crimsusp typeofid othpers sumissue offunif frisked  \\\n",
       "0       1     O       P    other        V       N        N       N       Y   \n",
       "1       A     O       P    other        V       N        N       N       Y   \n",
       "2       1     O       P     MISD        V       N        N       N       N   \n",
       "3       1     O       P    other        V       Y        N       N       N   \n",
       "4       1     O       P    other        V       Y        N       N       N   \n",
       "\n",
       "  searched  ... rf_knowl sb_hdobj sb_other forceuse race age       city  \\\n",
       "0        N  ...        N        N        N        N    W  33   BROOKLYN   \n",
       "1        N  ...        N        N        N       SF    B  14  MANHATTAN   \n",
       "2        N  ...        N        N        N       SF    B  14  MANHATTAN   \n",
       "3        N  ...        N        N        N        N    B  14  MANHATTAN   \n",
       "4        N  ...        N        N        N       SF    B  13  MANHATTAN   \n",
       "\n",
       "  weapons physical_force arstmade  \n",
       "0       N              N        N  \n",
       "1       N              Y        N  \n",
       "2       N              Y        N  \n",
       "3       N              N        N  \n",
       "4       N              Y        N  \n",
       "\n",
       "[5 rows x 39 columns]"
      ]
     },
     "execution_count": 11,
     "metadata": {},
     "output_type": "execute_result"
    }
   ],
   "source": [
    "df = pd.read_csv('crime_data_new.csv')\n",
    "df.head()"
   ]
  },
  {
   "cell_type": "code",
   "execution_count": 12,
   "metadata": {},
   "outputs": [
    {
     "data": {
      "text/plain": [
       "(30895, 39)"
      ]
     },
     "execution_count": 12,
     "metadata": {},
     "output_type": "execute_result"
    }
   ],
   "source": [
    "df.shape"
   ]
  },
  {
   "cell_type": "markdown",
   "metadata": {},
   "source": [
    "Transform age column into a categorical distribution"
   ]
  },
  {
   "cell_type": "code",
   "execution_count": 14,
   "metadata": {},
   "outputs": [],
   "source": [
    "df = df.drop('age', axis=1)"
   ]
  },
  {
   "cell_type": "code",
   "execution_count": 15,
   "metadata": {},
   "outputs": [],
   "source": [
    "target_variable = 'arstmade'"
   ]
  },
  {
   "cell_type": "code",
   "execution_count": 16,
   "metadata": {},
   "outputs": [],
   "source": [
    "#Transform target variable\n",
    "df = transform_target(df)"
   ]
  },
  {
   "cell_type": "code",
   "execution_count": 17,
   "metadata": {},
   "outputs": [
    {
     "data": {
      "text/html": [
       "<div>\n",
       "<style scoped>\n",
       "    .dataframe tbody tr th:only-of-type {\n",
       "        vertical-align: middle;\n",
       "    }\n",
       "\n",
       "    .dataframe tbody tr th {\n",
       "        vertical-align: top;\n",
       "    }\n",
       "\n",
       "    .dataframe thead th {\n",
       "        text-align: right;\n",
       "    }\n",
       "</style>\n",
       "<table border=\"1\" class=\"dataframe\">\n",
       "  <thead>\n",
       "    <tr style=\"text-align: right;\">\n",
       "      <th></th>\n",
       "      <th>recstat</th>\n",
       "      <th>inout</th>\n",
       "      <th>trhsloc</th>\n",
       "      <th>crimsusp</th>\n",
       "      <th>typeofid</th>\n",
       "      <th>othpers</th>\n",
       "      <th>sumissue</th>\n",
       "      <th>offunif</th>\n",
       "      <th>frisked</th>\n",
       "      <th>searched</th>\n",
       "      <th>...</th>\n",
       "      <th>cs_other</th>\n",
       "      <th>rf_knowl</th>\n",
       "      <th>sb_hdobj</th>\n",
       "      <th>sb_other</th>\n",
       "      <th>forceuse</th>\n",
       "      <th>race</th>\n",
       "      <th>city</th>\n",
       "      <th>weapons</th>\n",
       "      <th>physical_force</th>\n",
       "      <th>arstmade</th>\n",
       "    </tr>\n",
       "  </thead>\n",
       "  <tbody>\n",
       "    <tr>\n",
       "      <th>0</th>\n",
       "      <td>1</td>\n",
       "      <td>O</td>\n",
       "      <td>P</td>\n",
       "      <td>other</td>\n",
       "      <td>V</td>\n",
       "      <td>N</td>\n",
       "      <td>N</td>\n",
       "      <td>N</td>\n",
       "      <td>Y</td>\n",
       "      <td>N</td>\n",
       "      <td>...</td>\n",
       "      <td>N</td>\n",
       "      <td>N</td>\n",
       "      <td>N</td>\n",
       "      <td>N</td>\n",
       "      <td>N</td>\n",
       "      <td>W</td>\n",
       "      <td>BROOKLYN</td>\n",
       "      <td>N</td>\n",
       "      <td>N</td>\n",
       "      <td>0</td>\n",
       "    </tr>\n",
       "    <tr>\n",
       "      <th>1</th>\n",
       "      <td>A</td>\n",
       "      <td>O</td>\n",
       "      <td>P</td>\n",
       "      <td>other</td>\n",
       "      <td>V</td>\n",
       "      <td>N</td>\n",
       "      <td>N</td>\n",
       "      <td>N</td>\n",
       "      <td>Y</td>\n",
       "      <td>N</td>\n",
       "      <td>...</td>\n",
       "      <td>Y</td>\n",
       "      <td>N</td>\n",
       "      <td>N</td>\n",
       "      <td>N</td>\n",
       "      <td>SF</td>\n",
       "      <td>B</td>\n",
       "      <td>MANHATTAN</td>\n",
       "      <td>N</td>\n",
       "      <td>Y</td>\n",
       "      <td>0</td>\n",
       "    </tr>\n",
       "    <tr>\n",
       "      <th>2</th>\n",
       "      <td>1</td>\n",
       "      <td>O</td>\n",
       "      <td>P</td>\n",
       "      <td>MISD</td>\n",
       "      <td>V</td>\n",
       "      <td>N</td>\n",
       "      <td>N</td>\n",
       "      <td>N</td>\n",
       "      <td>N</td>\n",
       "      <td>N</td>\n",
       "      <td>...</td>\n",
       "      <td>Y</td>\n",
       "      <td>N</td>\n",
       "      <td>N</td>\n",
       "      <td>N</td>\n",
       "      <td>SF</td>\n",
       "      <td>B</td>\n",
       "      <td>MANHATTAN</td>\n",
       "      <td>N</td>\n",
       "      <td>Y</td>\n",
       "      <td>0</td>\n",
       "    </tr>\n",
       "    <tr>\n",
       "      <th>3</th>\n",
       "      <td>1</td>\n",
       "      <td>O</td>\n",
       "      <td>P</td>\n",
       "      <td>other</td>\n",
       "      <td>V</td>\n",
       "      <td>Y</td>\n",
       "      <td>N</td>\n",
       "      <td>N</td>\n",
       "      <td>N</td>\n",
       "      <td>N</td>\n",
       "      <td>...</td>\n",
       "      <td>Y</td>\n",
       "      <td>N</td>\n",
       "      <td>N</td>\n",
       "      <td>N</td>\n",
       "      <td>N</td>\n",
       "      <td>B</td>\n",
       "      <td>MANHATTAN</td>\n",
       "      <td>N</td>\n",
       "      <td>N</td>\n",
       "      <td>0</td>\n",
       "    </tr>\n",
       "    <tr>\n",
       "      <th>4</th>\n",
       "      <td>1</td>\n",
       "      <td>O</td>\n",
       "      <td>P</td>\n",
       "      <td>other</td>\n",
       "      <td>V</td>\n",
       "      <td>Y</td>\n",
       "      <td>N</td>\n",
       "      <td>N</td>\n",
       "      <td>N</td>\n",
       "      <td>N</td>\n",
       "      <td>...</td>\n",
       "      <td>Y</td>\n",
       "      <td>N</td>\n",
       "      <td>N</td>\n",
       "      <td>N</td>\n",
       "      <td>SF</td>\n",
       "      <td>B</td>\n",
       "      <td>MANHATTAN</td>\n",
       "      <td>N</td>\n",
       "      <td>Y</td>\n",
       "      <td>0</td>\n",
       "    </tr>\n",
       "  </tbody>\n",
       "</table>\n",
       "<p>5 rows × 38 columns</p>\n",
       "</div>"
      ],
      "text/plain": [
       "  recstat inout trhsloc crimsusp typeofid othpers sumissue offunif frisked  \\\n",
       "0       1     O       P    other        V       N        N       N       Y   \n",
       "1       A     O       P    other        V       N        N       N       Y   \n",
       "2       1     O       P     MISD        V       N        N       N       N   \n",
       "3       1     O       P    other        V       Y        N       N       N   \n",
       "4       1     O       P    other        V       Y        N       N       N   \n",
       "\n",
       "  searched  ... cs_other rf_knowl sb_hdobj sb_other forceuse race       city  \\\n",
       "0        N  ...        N        N        N        N        N    W   BROOKLYN   \n",
       "1        N  ...        Y        N        N        N       SF    B  MANHATTAN   \n",
       "2        N  ...        Y        N        N        N       SF    B  MANHATTAN   \n",
       "3        N  ...        Y        N        N        N        N    B  MANHATTAN   \n",
       "4        N  ...        Y        N        N        N       SF    B  MANHATTAN   \n",
       "\n",
       "  weapons physical_force arstmade  \n",
       "0       N              N        0  \n",
       "1       N              Y        0  \n",
       "2       N              Y        0  \n",
       "3       N              N        0  \n",
       "4       N              Y        0  \n",
       "\n",
       "[5 rows x 38 columns]"
      ]
     },
     "execution_count": 17,
     "metadata": {},
     "output_type": "execute_result"
    }
   ],
   "source": [
    "df.head()"
   ]
  },
  {
   "cell_type": "code",
   "execution_count": 18,
   "metadata": {},
   "outputs": [
    {
     "data": {
      "text/plain": [
       "0    24878\n",
       "1     6017\n",
       "Name: arstmade, dtype: int64"
      ]
     },
     "execution_count": 18,
     "metadata": {},
     "output_type": "execute_result"
    }
   ],
   "source": [
    "df[target_variable].value_counts()"
   ]
  },
  {
   "cell_type": "code",
   "execution_count": 19,
   "metadata": {},
   "outputs": [],
   "source": [
    "X_train, X_test, y_train, y_test = train_validation_data_split(df, target_variable, test_data_ratio=0.3, seed=0)"
   ]
  },
  {
   "cell_type": "code",
   "execution_count": 20,
   "metadata": {},
   "outputs": [
    {
     "data": {
      "text/html": [
       "<div>\n",
       "<style scoped>\n",
       "    .dataframe tbody tr th:only-of-type {\n",
       "        vertical-align: middle;\n",
       "    }\n",
       "\n",
       "    .dataframe tbody tr th {\n",
       "        vertical-align: top;\n",
       "    }\n",
       "\n",
       "    .dataframe thead th {\n",
       "        text-align: right;\n",
       "    }\n",
       "</style>\n",
       "<table border=\"1\" class=\"dataframe\">\n",
       "  <thead>\n",
       "    <tr style=\"text-align: right;\">\n",
       "      <th></th>\n",
       "      <th>recstat</th>\n",
       "      <th>inout</th>\n",
       "      <th>trhsloc</th>\n",
       "      <th>crimsusp</th>\n",
       "      <th>typeofid</th>\n",
       "      <th>othpers</th>\n",
       "      <th>sumissue</th>\n",
       "      <th>offunif</th>\n",
       "      <th>frisked</th>\n",
       "      <th>searched</th>\n",
       "      <th>...</th>\n",
       "      <th>cs_vcrim</th>\n",
       "      <th>cs_other</th>\n",
       "      <th>rf_knowl</th>\n",
       "      <th>sb_hdobj</th>\n",
       "      <th>sb_other</th>\n",
       "      <th>forceuse</th>\n",
       "      <th>race</th>\n",
       "      <th>city</th>\n",
       "      <th>weapons</th>\n",
       "      <th>physical_force</th>\n",
       "    </tr>\n",
       "  </thead>\n",
       "  <tbody>\n",
       "    <tr>\n",
       "      <th>24339</th>\n",
       "      <td>1</td>\n",
       "      <td>I</td>\n",
       "      <td>P</td>\n",
       "      <td>other</td>\n",
       "      <td>V</td>\n",
       "      <td>N</td>\n",
       "      <td>N</td>\n",
       "      <td>N</td>\n",
       "      <td>N</td>\n",
       "      <td>N</td>\n",
       "      <td>...</td>\n",
       "      <td>N</td>\n",
       "      <td>N</td>\n",
       "      <td>N</td>\n",
       "      <td>N</td>\n",
       "      <td>N</td>\n",
       "      <td>N</td>\n",
       "      <td>Z</td>\n",
       "      <td>BROOKLYN</td>\n",
       "      <td>N</td>\n",
       "      <td>N</td>\n",
       "    </tr>\n",
       "    <tr>\n",
       "      <th>17228</th>\n",
       "      <td>1</td>\n",
       "      <td>O</td>\n",
       "      <td>P</td>\n",
       "      <td>other</td>\n",
       "      <td>V</td>\n",
       "      <td>Y</td>\n",
       "      <td>N</td>\n",
       "      <td>Y</td>\n",
       "      <td>Y</td>\n",
       "      <td>N</td>\n",
       "      <td>...</td>\n",
       "      <td>N</td>\n",
       "      <td>N</td>\n",
       "      <td>N</td>\n",
       "      <td>N</td>\n",
       "      <td>N</td>\n",
       "      <td>N</td>\n",
       "      <td>B</td>\n",
       "      <td>MANHATTAN</td>\n",
       "      <td>N</td>\n",
       "      <td>N</td>\n",
       "    </tr>\n",
       "    <tr>\n",
       "      <th>9917</th>\n",
       "      <td>A</td>\n",
       "      <td>I</td>\n",
       "      <td>P</td>\n",
       "      <td>other</td>\n",
       "      <td>P</td>\n",
       "      <td>Y</td>\n",
       "      <td>N</td>\n",
       "      <td>Y</td>\n",
       "      <td>Y</td>\n",
       "      <td>N</td>\n",
       "      <td>...</td>\n",
       "      <td>N</td>\n",
       "      <td>N</td>\n",
       "      <td>N</td>\n",
       "      <td>N</td>\n",
       "      <td>N</td>\n",
       "      <td>N</td>\n",
       "      <td>Q</td>\n",
       "      <td>STATEN IS</td>\n",
       "      <td>N</td>\n",
       "      <td>N</td>\n",
       "    </tr>\n",
       "    <tr>\n",
       "      <th>13140</th>\n",
       "      <td>1</td>\n",
       "      <td>I</td>\n",
       "      <td>P</td>\n",
       "      <td>other</td>\n",
       "      <td>V</td>\n",
       "      <td>N</td>\n",
       "      <td>N</td>\n",
       "      <td>Y</td>\n",
       "      <td>N</td>\n",
       "      <td>N</td>\n",
       "      <td>...</td>\n",
       "      <td>N</td>\n",
       "      <td>N</td>\n",
       "      <td>N</td>\n",
       "      <td>N</td>\n",
       "      <td>N</td>\n",
       "      <td>N</td>\n",
       "      <td>B</td>\n",
       "      <td>QUEENS</td>\n",
       "      <td>N</td>\n",
       "      <td>N</td>\n",
       "    </tr>\n",
       "    <tr>\n",
       "      <th>7437</th>\n",
       "      <td>1</td>\n",
       "      <td>I</td>\n",
       "      <td>T</td>\n",
       "      <td>other</td>\n",
       "      <td>V</td>\n",
       "      <td>N</td>\n",
       "      <td>N</td>\n",
       "      <td>N</td>\n",
       "      <td>N</td>\n",
       "      <td>N</td>\n",
       "      <td>...</td>\n",
       "      <td>N</td>\n",
       "      <td>N</td>\n",
       "      <td>N</td>\n",
       "      <td>N</td>\n",
       "      <td>N</td>\n",
       "      <td>N</td>\n",
       "      <td>B</td>\n",
       "      <td>MANHATTAN</td>\n",
       "      <td>N</td>\n",
       "      <td>N</td>\n",
       "    </tr>\n",
       "  </tbody>\n",
       "</table>\n",
       "<p>5 rows × 37 columns</p>\n",
       "</div>"
      ],
      "text/plain": [
       "      recstat inout trhsloc crimsusp typeofid othpers sumissue offunif  \\\n",
       "24339       1     I       P    other        V       N        N       N   \n",
       "17228       1     O       P    other        V       Y        N       Y   \n",
       "9917        A     I       P    other        P       Y        N       Y   \n",
       "13140       1     I       P    other        V       N        N       Y   \n",
       "7437        1     I       T    other        V       N        N       N   \n",
       "\n",
       "      frisked searched  ... cs_vcrim cs_other rf_knowl sb_hdobj sb_other  \\\n",
       "24339       N        N  ...        N        N        N        N        N   \n",
       "17228       Y        N  ...        N        N        N        N        N   \n",
       "9917        Y        N  ...        N        N        N        N        N   \n",
       "13140       N        N  ...        N        N        N        N        N   \n",
       "7437        N        N  ...        N        N        N        N        N   \n",
       "\n",
       "      forceuse race       city weapons physical_force  \n",
       "24339        N    Z   BROOKLYN       N              N  \n",
       "17228        N    B  MANHATTAN       N              N  \n",
       "9917         N    Q  STATEN IS       N              N  \n",
       "13140        N    B     QUEENS       N              N  \n",
       "7437         N    B  MANHATTAN       N              N  \n",
       "\n",
       "[5 rows x 37 columns]"
      ]
     },
     "execution_count": 20,
     "metadata": {},
     "output_type": "execute_result"
    }
   ],
   "source": [
    "X_train.head()"
   ]
  },
  {
   "cell_type": "code",
   "execution_count": 21,
   "metadata": {},
   "outputs": [
    {
     "data": {
      "text/plain": [
       "(21626, 37)"
      ]
     },
     "execution_count": 21,
     "metadata": {},
     "output_type": "execute_result"
    }
   ],
   "source": [
    "X_train.shape"
   ]
  },
  {
   "cell_type": "code",
   "execution_count": 22,
   "metadata": {},
   "outputs": [
    {
     "data": {
      "text/html": [
       "<div>\n",
       "<style scoped>\n",
       "    .dataframe tbody tr th:only-of-type {\n",
       "        vertical-align: middle;\n",
       "    }\n",
       "\n",
       "    .dataframe tbody tr th {\n",
       "        vertical-align: top;\n",
       "    }\n",
       "\n",
       "    .dataframe thead th {\n",
       "        text-align: right;\n",
       "    }\n",
       "</style>\n",
       "<table border=\"1\" class=\"dataframe\">\n",
       "  <thead>\n",
       "    <tr style=\"text-align: right;\">\n",
       "      <th></th>\n",
       "      <th>recstat</th>\n",
       "      <th>inout</th>\n",
       "      <th>trhsloc</th>\n",
       "      <th>crimsusp</th>\n",
       "      <th>typeofid</th>\n",
       "      <th>othpers</th>\n",
       "      <th>sumissue</th>\n",
       "      <th>offunif</th>\n",
       "      <th>frisked</th>\n",
       "      <th>searched</th>\n",
       "      <th>...</th>\n",
       "      <th>cs_vcrim</th>\n",
       "      <th>cs_other</th>\n",
       "      <th>rf_knowl</th>\n",
       "      <th>sb_hdobj</th>\n",
       "      <th>sb_other</th>\n",
       "      <th>forceuse</th>\n",
       "      <th>race</th>\n",
       "      <th>city</th>\n",
       "      <th>weapons</th>\n",
       "      <th>physical_force</th>\n",
       "    </tr>\n",
       "  </thead>\n",
       "  <tbody>\n",
       "    <tr>\n",
       "      <th>2436</th>\n",
       "      <td>1</td>\n",
       "      <td>I</td>\n",
       "      <td>P</td>\n",
       "      <td>other</td>\n",
       "      <td>R</td>\n",
       "      <td>Y</td>\n",
       "      <td>N</td>\n",
       "      <td>Y</td>\n",
       "      <td>Y</td>\n",
       "      <td>N</td>\n",
       "      <td>...</td>\n",
       "      <td>N</td>\n",
       "      <td>Y</td>\n",
       "      <td>N</td>\n",
       "      <td>N</td>\n",
       "      <td>N</td>\n",
       "      <td>N</td>\n",
       "      <td>Z</td>\n",
       "      <td>BRONX</td>\n",
       "      <td>N</td>\n",
       "      <td>N</td>\n",
       "    </tr>\n",
       "    <tr>\n",
       "      <th>13872</th>\n",
       "      <td>1</td>\n",
       "      <td>O</td>\n",
       "      <td>H</td>\n",
       "      <td>other</td>\n",
       "      <td>P</td>\n",
       "      <td>N</td>\n",
       "      <td>N</td>\n",
       "      <td>Y</td>\n",
       "      <td>Y</td>\n",
       "      <td>N</td>\n",
       "      <td>...</td>\n",
       "      <td>N</td>\n",
       "      <td>Y</td>\n",
       "      <td>N</td>\n",
       "      <td>N</td>\n",
       "      <td>N</td>\n",
       "      <td>SF</td>\n",
       "      <td>B</td>\n",
       "      <td>MANHATTAN</td>\n",
       "      <td>N</td>\n",
       "      <td>Y</td>\n",
       "    </tr>\n",
       "    <tr>\n",
       "      <th>6733</th>\n",
       "      <td>A</td>\n",
       "      <td>O</td>\n",
       "      <td>P</td>\n",
       "      <td>other</td>\n",
       "      <td>P</td>\n",
       "      <td>Y</td>\n",
       "      <td>N</td>\n",
       "      <td>N</td>\n",
       "      <td>N</td>\n",
       "      <td>N</td>\n",
       "      <td>...</td>\n",
       "      <td>N</td>\n",
       "      <td>N</td>\n",
       "      <td>N</td>\n",
       "      <td>N</td>\n",
       "      <td>N</td>\n",
       "      <td>N</td>\n",
       "      <td>Q</td>\n",
       "      <td>QUEENS</td>\n",
       "      <td>N</td>\n",
       "      <td>N</td>\n",
       "    </tr>\n",
       "    <tr>\n",
       "      <th>7155</th>\n",
       "      <td>A</td>\n",
       "      <td>O</td>\n",
       "      <td>P</td>\n",
       "      <td>other</td>\n",
       "      <td>V</td>\n",
       "      <td>Y</td>\n",
       "      <td>N</td>\n",
       "      <td>N</td>\n",
       "      <td>Y</td>\n",
       "      <td>N</td>\n",
       "      <td>...</td>\n",
       "      <td>N</td>\n",
       "      <td>Y</td>\n",
       "      <td>Y</td>\n",
       "      <td>N</td>\n",
       "      <td>N</td>\n",
       "      <td>N</td>\n",
       "      <td>B</td>\n",
       "      <td>STATEN IS</td>\n",
       "      <td>N</td>\n",
       "      <td>N</td>\n",
       "    </tr>\n",
       "    <tr>\n",
       "      <th>1751</th>\n",
       "      <td>A</td>\n",
       "      <td>O</td>\n",
       "      <td>P</td>\n",
       "      <td>other</td>\n",
       "      <td>P</td>\n",
       "      <td>Y</td>\n",
       "      <td>N</td>\n",
       "      <td>N</td>\n",
       "      <td>Y</td>\n",
       "      <td>N</td>\n",
       "      <td>...</td>\n",
       "      <td>N</td>\n",
       "      <td>Y</td>\n",
       "      <td>N</td>\n",
       "      <td>N</td>\n",
       "      <td>N</td>\n",
       "      <td>N</td>\n",
       "      <td>Z</td>\n",
       "      <td>BROOKLYN</td>\n",
       "      <td>N</td>\n",
       "      <td>N</td>\n",
       "    </tr>\n",
       "  </tbody>\n",
       "</table>\n",
       "<p>5 rows × 37 columns</p>\n",
       "</div>"
      ],
      "text/plain": [
       "      recstat inout trhsloc crimsusp typeofid othpers sumissue offunif  \\\n",
       "2436        1     I       P    other        R       Y        N       Y   \n",
       "13872       1     O       H    other        P       N        N       Y   \n",
       "6733        A     O       P    other        P       Y        N       N   \n",
       "7155        A     O       P    other        V       Y        N       N   \n",
       "1751        A     O       P    other        P       Y        N       N   \n",
       "\n",
       "      frisked searched  ... cs_vcrim cs_other rf_knowl sb_hdobj sb_other  \\\n",
       "2436        Y        N  ...        N        Y        N        N        N   \n",
       "13872       Y        N  ...        N        Y        N        N        N   \n",
       "6733        N        N  ...        N        N        N        N        N   \n",
       "7155        Y        N  ...        N        Y        Y        N        N   \n",
       "1751        Y        N  ...        N        Y        N        N        N   \n",
       "\n",
       "      forceuse race       city weapons physical_force  \n",
       "2436         N    Z      BRONX       N              N  \n",
       "13872       SF    B  MANHATTAN       N              Y  \n",
       "6733         N    Q     QUEENS       N              N  \n",
       "7155         N    B  STATEN IS       N              N  \n",
       "1751         N    Z   BROOKLYN       N              N  \n",
       "\n",
       "[5 rows x 37 columns]"
      ]
     },
     "execution_count": 22,
     "metadata": {},
     "output_type": "execute_result"
    }
   ],
   "source": [
    "X_test.head()"
   ]
  },
  {
   "cell_type": "code",
   "execution_count": 23,
   "metadata": {},
   "outputs": [
    {
     "data": {
      "text/plain": [
       "(9269, 37)"
      ]
     },
     "execution_count": 23,
     "metadata": {},
     "output_type": "execute_result"
    }
   ],
   "source": [
    "X_test.shape"
   ]
  },
  {
   "cell_type": "markdown",
   "metadata": {},
   "source": [
    "One-Hot Encoding"
   ]
  },
  {
   "cell_type": "code",
   "execution_count": 24,
   "metadata": {},
   "outputs": [],
   "source": [
    "#ONE HOT ENCODING OF THE TRAINING DATA\n",
    "train_cat_cols, train_encoded_cols, train_dummies, X_train = train_data_encoding(X_train)\n",
    "X_train = X_train.sort_index(axis=1)"
   ]
  },
  {
   "cell_type": "code",
   "execution_count": 25,
   "metadata": {},
   "outputs": [
    {
     "data": {
      "text/html": [
       "<div>\n",
       "<style scoped>\n",
       "    .dataframe tbody tr th:only-of-type {\n",
       "        vertical-align: middle;\n",
       "    }\n",
       "\n",
       "    .dataframe tbody tr th {\n",
       "        vertical-align: top;\n",
       "    }\n",
       "\n",
       "    .dataframe thead th {\n",
       "        text-align: right;\n",
       "    }\n",
       "</style>\n",
       "<table border=\"1\" class=\"dataframe\">\n",
       "  <thead>\n",
       "    <tr style=\"text-align: right;\">\n",
       "      <th></th>\n",
       "      <th>ac_assoc__N</th>\n",
       "      <th>ac_assoc__Y</th>\n",
       "      <th>ac_evasv__N</th>\n",
       "      <th>ac_evasv__Y</th>\n",
       "      <th>ac_inves__N</th>\n",
       "      <th>ac_inves__Y</th>\n",
       "      <th>ac_proxm__N</th>\n",
       "      <th>ac_proxm__Y</th>\n",
       "      <th>city__BRONX</th>\n",
       "      <th>city__BROOKLYN</th>\n",
       "      <th>...</th>\n",
       "      <th>sumissue__Y</th>\n",
       "      <th>trhsloc__H</th>\n",
       "      <th>trhsloc__P</th>\n",
       "      <th>trhsloc__T</th>\n",
       "      <th>typeofid__O</th>\n",
       "      <th>typeofid__P</th>\n",
       "      <th>typeofid__R</th>\n",
       "      <th>typeofid__V</th>\n",
       "      <th>weapons__N</th>\n",
       "      <th>weapons__Y</th>\n",
       "    </tr>\n",
       "  </thead>\n",
       "  <tbody>\n",
       "    <tr>\n",
       "      <th>24339</th>\n",
       "      <td>1</td>\n",
       "      <td>0</td>\n",
       "      <td>1</td>\n",
       "      <td>0</td>\n",
       "      <td>1</td>\n",
       "      <td>0</td>\n",
       "      <td>1</td>\n",
       "      <td>0</td>\n",
       "      <td>0</td>\n",
       "      <td>1</td>\n",
       "      <td>...</td>\n",
       "      <td>0</td>\n",
       "      <td>0</td>\n",
       "      <td>1</td>\n",
       "      <td>0</td>\n",
       "      <td>0</td>\n",
       "      <td>0</td>\n",
       "      <td>0</td>\n",
       "      <td>1</td>\n",
       "      <td>1</td>\n",
       "      <td>0</td>\n",
       "    </tr>\n",
       "    <tr>\n",
       "      <th>17228</th>\n",
       "      <td>1</td>\n",
       "      <td>0</td>\n",
       "      <td>1</td>\n",
       "      <td>0</td>\n",
       "      <td>1</td>\n",
       "      <td>0</td>\n",
       "      <td>0</td>\n",
       "      <td>1</td>\n",
       "      <td>0</td>\n",
       "      <td>0</td>\n",
       "      <td>...</td>\n",
       "      <td>0</td>\n",
       "      <td>0</td>\n",
       "      <td>1</td>\n",
       "      <td>0</td>\n",
       "      <td>0</td>\n",
       "      <td>0</td>\n",
       "      <td>0</td>\n",
       "      <td>1</td>\n",
       "      <td>1</td>\n",
       "      <td>0</td>\n",
       "    </tr>\n",
       "    <tr>\n",
       "      <th>9917</th>\n",
       "      <td>1</td>\n",
       "      <td>0</td>\n",
       "      <td>1</td>\n",
       "      <td>0</td>\n",
       "      <td>1</td>\n",
       "      <td>0</td>\n",
       "      <td>1</td>\n",
       "      <td>0</td>\n",
       "      <td>0</td>\n",
       "      <td>0</td>\n",
       "      <td>...</td>\n",
       "      <td>0</td>\n",
       "      <td>0</td>\n",
       "      <td>1</td>\n",
       "      <td>0</td>\n",
       "      <td>0</td>\n",
       "      <td>1</td>\n",
       "      <td>0</td>\n",
       "      <td>0</td>\n",
       "      <td>1</td>\n",
       "      <td>0</td>\n",
       "    </tr>\n",
       "    <tr>\n",
       "      <th>13140</th>\n",
       "      <td>1</td>\n",
       "      <td>0</td>\n",
       "      <td>1</td>\n",
       "      <td>0</td>\n",
       "      <td>1</td>\n",
       "      <td>0</td>\n",
       "      <td>1</td>\n",
       "      <td>0</td>\n",
       "      <td>0</td>\n",
       "      <td>0</td>\n",
       "      <td>...</td>\n",
       "      <td>0</td>\n",
       "      <td>0</td>\n",
       "      <td>1</td>\n",
       "      <td>0</td>\n",
       "      <td>0</td>\n",
       "      <td>0</td>\n",
       "      <td>0</td>\n",
       "      <td>1</td>\n",
       "      <td>1</td>\n",
       "      <td>0</td>\n",
       "    </tr>\n",
       "    <tr>\n",
       "      <th>7437</th>\n",
       "      <td>1</td>\n",
       "      <td>0</td>\n",
       "      <td>1</td>\n",
       "      <td>0</td>\n",
       "      <td>1</td>\n",
       "      <td>0</td>\n",
       "      <td>1</td>\n",
       "      <td>0</td>\n",
       "      <td>0</td>\n",
       "      <td>0</td>\n",
       "      <td>...</td>\n",
       "      <td>0</td>\n",
       "      <td>0</td>\n",
       "      <td>0</td>\n",
       "      <td>1</td>\n",
       "      <td>0</td>\n",
       "      <td>0</td>\n",
       "      <td>0</td>\n",
       "      <td>1</td>\n",
       "      <td>1</td>\n",
       "      <td>0</td>\n",
       "    </tr>\n",
       "  </tbody>\n",
       "</table>\n",
       "<p>5 rows × 94 columns</p>\n",
       "</div>"
      ],
      "text/plain": [
       "       ac_assoc__N  ac_assoc__Y  ac_evasv__N  ac_evasv__Y  ac_inves__N  \\\n",
       "24339            1            0            1            0            1   \n",
       "17228            1            0            1            0            1   \n",
       "9917             1            0            1            0            1   \n",
       "13140            1            0            1            0            1   \n",
       "7437             1            0            1            0            1   \n",
       "\n",
       "       ac_inves__Y  ac_proxm__N  ac_proxm__Y  city__BRONX  city__BROOKLYN  \\\n",
       "24339            0            1            0            0               1   \n",
       "17228            0            0            1            0               0   \n",
       "9917             0            1            0            0               0   \n",
       "13140            0            1            0            0               0   \n",
       "7437             0            1            0            0               0   \n",
       "\n",
       "       ...  sumissue__Y  trhsloc__H  trhsloc__P  trhsloc__T  typeofid__O  \\\n",
       "24339  ...            0           0           1           0            0   \n",
       "17228  ...            0           0           1           0            0   \n",
       "9917   ...            0           0           1           0            0   \n",
       "13140  ...            0           0           1           0            0   \n",
       "7437   ...            0           0           0           1            0   \n",
       "\n",
       "       typeofid__P  typeofid__R  typeofid__V  weapons__N  weapons__Y  \n",
       "24339            0            0            1           1           0  \n",
       "17228            0            0            1           1           0  \n",
       "9917             1            0            0           1           0  \n",
       "13140            0            0            1           1           0  \n",
       "7437             0            0            1           1           0  \n",
       "\n",
       "[5 rows x 94 columns]"
      ]
     },
     "execution_count": 25,
     "metadata": {},
     "output_type": "execute_result"
    }
   ],
   "source": [
    "X_train.head()"
   ]
  },
  {
   "cell_type": "code",
   "execution_count": 26,
   "metadata": {},
   "outputs": [
    {
     "data": {
      "text/plain": [
       "(21626, 94)"
      ]
     },
     "execution_count": 26,
     "metadata": {},
     "output_type": "execute_result"
    }
   ],
   "source": [
    "X_train.shape"
   ]
  },
  {
   "cell_type": "code",
   "execution_count": 27,
   "metadata": {},
   "outputs": [
    {
     "data": {
      "text/plain": [
       "(21626,)"
      ]
     },
     "execution_count": 27,
     "metadata": {},
     "output_type": "execute_result"
    }
   ],
   "source": [
    "y_train.shape"
   ]
  },
  {
   "cell_type": "code",
   "execution_count": 28,
   "metadata": {},
   "outputs": [],
   "source": [
    "X_test = prepare_test_data(X_test)"
   ]
  },
  {
   "cell_type": "code",
   "execution_count": 29,
   "metadata": {},
   "outputs": [
    {
     "data": {
      "text/html": [
       "<div>\n",
       "<style scoped>\n",
       "    .dataframe tbody tr th:only-of-type {\n",
       "        vertical-align: middle;\n",
       "    }\n",
       "\n",
       "    .dataframe tbody tr th {\n",
       "        vertical-align: top;\n",
       "    }\n",
       "\n",
       "    .dataframe thead th {\n",
       "        text-align: right;\n",
       "    }\n",
       "</style>\n",
       "<table border=\"1\" class=\"dataframe\">\n",
       "  <thead>\n",
       "    <tr style=\"text-align: right;\">\n",
       "      <th></th>\n",
       "      <th>ac_assoc__N</th>\n",
       "      <th>ac_assoc__Y</th>\n",
       "      <th>ac_evasv__N</th>\n",
       "      <th>ac_evasv__Y</th>\n",
       "      <th>ac_inves__N</th>\n",
       "      <th>ac_inves__Y</th>\n",
       "      <th>ac_proxm__N</th>\n",
       "      <th>ac_proxm__Y</th>\n",
       "      <th>city__BRONX</th>\n",
       "      <th>city__BROOKLYN</th>\n",
       "      <th>...</th>\n",
       "      <th>sumissue__Y</th>\n",
       "      <th>trhsloc__H</th>\n",
       "      <th>trhsloc__P</th>\n",
       "      <th>trhsloc__T</th>\n",
       "      <th>typeofid__O</th>\n",
       "      <th>typeofid__P</th>\n",
       "      <th>typeofid__R</th>\n",
       "      <th>typeofid__V</th>\n",
       "      <th>weapons__N</th>\n",
       "      <th>weapons__Y</th>\n",
       "    </tr>\n",
       "  </thead>\n",
       "  <tbody>\n",
       "    <tr>\n",
       "      <th>2436</th>\n",
       "      <td>1</td>\n",
       "      <td>0</td>\n",
       "      <td>1</td>\n",
       "      <td>0</td>\n",
       "      <td>1</td>\n",
       "      <td>0</td>\n",
       "      <td>1</td>\n",
       "      <td>0</td>\n",
       "      <td>1</td>\n",
       "      <td>0</td>\n",
       "      <td>...</td>\n",
       "      <td>0</td>\n",
       "      <td>0</td>\n",
       "      <td>1</td>\n",
       "      <td>0</td>\n",
       "      <td>0</td>\n",
       "      <td>0</td>\n",
       "      <td>1</td>\n",
       "      <td>0</td>\n",
       "      <td>1</td>\n",
       "      <td>0</td>\n",
       "    </tr>\n",
       "    <tr>\n",
       "      <th>13872</th>\n",
       "      <td>1</td>\n",
       "      <td>0</td>\n",
       "      <td>1</td>\n",
       "      <td>0</td>\n",
       "      <td>1</td>\n",
       "      <td>0</td>\n",
       "      <td>1</td>\n",
       "      <td>0</td>\n",
       "      <td>0</td>\n",
       "      <td>0</td>\n",
       "      <td>...</td>\n",
       "      <td>0</td>\n",
       "      <td>1</td>\n",
       "      <td>0</td>\n",
       "      <td>0</td>\n",
       "      <td>0</td>\n",
       "      <td>1</td>\n",
       "      <td>0</td>\n",
       "      <td>0</td>\n",
       "      <td>1</td>\n",
       "      <td>0</td>\n",
       "    </tr>\n",
       "    <tr>\n",
       "      <th>6733</th>\n",
       "      <td>1</td>\n",
       "      <td>0</td>\n",
       "      <td>1</td>\n",
       "      <td>0</td>\n",
       "      <td>1</td>\n",
       "      <td>0</td>\n",
       "      <td>1</td>\n",
       "      <td>0</td>\n",
       "      <td>0</td>\n",
       "      <td>0</td>\n",
       "      <td>...</td>\n",
       "      <td>0</td>\n",
       "      <td>0</td>\n",
       "      <td>1</td>\n",
       "      <td>0</td>\n",
       "      <td>0</td>\n",
       "      <td>1</td>\n",
       "      <td>0</td>\n",
       "      <td>0</td>\n",
       "      <td>1</td>\n",
       "      <td>0</td>\n",
       "    </tr>\n",
       "    <tr>\n",
       "      <th>7155</th>\n",
       "      <td>0</td>\n",
       "      <td>1</td>\n",
       "      <td>1</td>\n",
       "      <td>0</td>\n",
       "      <td>1</td>\n",
       "      <td>0</td>\n",
       "      <td>1</td>\n",
       "      <td>0</td>\n",
       "      <td>0</td>\n",
       "      <td>0</td>\n",
       "      <td>...</td>\n",
       "      <td>0</td>\n",
       "      <td>0</td>\n",
       "      <td>1</td>\n",
       "      <td>0</td>\n",
       "      <td>0</td>\n",
       "      <td>0</td>\n",
       "      <td>0</td>\n",
       "      <td>1</td>\n",
       "      <td>1</td>\n",
       "      <td>0</td>\n",
       "    </tr>\n",
       "    <tr>\n",
       "      <th>1751</th>\n",
       "      <td>1</td>\n",
       "      <td>0</td>\n",
       "      <td>1</td>\n",
       "      <td>0</td>\n",
       "      <td>1</td>\n",
       "      <td>0</td>\n",
       "      <td>0</td>\n",
       "      <td>1</td>\n",
       "      <td>0</td>\n",
       "      <td>1</td>\n",
       "      <td>...</td>\n",
       "      <td>0</td>\n",
       "      <td>0</td>\n",
       "      <td>1</td>\n",
       "      <td>0</td>\n",
       "      <td>0</td>\n",
       "      <td>1</td>\n",
       "      <td>0</td>\n",
       "      <td>0</td>\n",
       "      <td>1</td>\n",
       "      <td>0</td>\n",
       "    </tr>\n",
       "  </tbody>\n",
       "</table>\n",
       "<p>5 rows × 94 columns</p>\n",
       "</div>"
      ],
      "text/plain": [
       "       ac_assoc__N  ac_assoc__Y  ac_evasv__N  ac_evasv__Y  ac_inves__N  \\\n",
       "2436             1            0            1            0            1   \n",
       "13872            1            0            1            0            1   \n",
       "6733             1            0            1            0            1   \n",
       "7155             0            1            1            0            1   \n",
       "1751             1            0            1            0            1   \n",
       "\n",
       "       ac_inves__Y  ac_proxm__N  ac_proxm__Y  city__BRONX  city__BROOKLYN  \\\n",
       "2436             0            1            0            1               0   \n",
       "13872            0            1            0            0               0   \n",
       "6733             0            1            0            0               0   \n",
       "7155             0            1            0            0               0   \n",
       "1751             0            0            1            0               1   \n",
       "\n",
       "       ...  sumissue__Y  trhsloc__H  trhsloc__P  trhsloc__T  typeofid__O  \\\n",
       "2436   ...            0           0           1           0            0   \n",
       "13872  ...            0           1           0           0            0   \n",
       "6733   ...            0           0           1           0            0   \n",
       "7155   ...            0           0           1           0            0   \n",
       "1751   ...            0           0           1           0            0   \n",
       "\n",
       "       typeofid__P  typeofid__R  typeofid__V  weapons__N  weapons__Y  \n",
       "2436             0            1            0           1           0  \n",
       "13872            1            0            0           1           0  \n",
       "6733             1            0            0           1           0  \n",
       "7155             0            0            1           1           0  \n",
       "1751             1            0            0           1           0  \n",
       "\n",
       "[5 rows x 94 columns]"
      ]
     },
     "execution_count": 29,
     "metadata": {},
     "output_type": "execute_result"
    }
   ],
   "source": [
    "X_test.head()"
   ]
  },
  {
   "cell_type": "code",
   "execution_count": 30,
   "metadata": {},
   "outputs": [
    {
     "data": {
      "text/plain": [
       "(9269, 94)"
      ]
     },
     "execution_count": 30,
     "metadata": {},
     "output_type": "execute_result"
    }
   ],
   "source": [
    "X_test.shape"
   ]
  },
  {
   "cell_type": "code",
   "execution_count": 31,
   "metadata": {},
   "outputs": [
    {
     "data": {
      "text/plain": [
       "(9269,)"
      ]
     },
     "execution_count": 31,
     "metadata": {},
     "output_type": "execute_result"
    }
   ],
   "source": [
    "y_test.shape"
   ]
  },
  {
   "cell_type": "code",
   "execution_count": 32,
   "metadata": {},
   "outputs": [],
   "source": [
    "y_train = y_train.astype('int')\n",
    "y_test = y_test.astype('int')"
   ]
  },
  {
   "cell_type": "code",
   "execution_count": 33,
   "metadata": {},
   "outputs": [
    {
     "data": {
      "text/plain": [
       "0    7431\n",
       "1    1838\n",
       "Name: arstmade, dtype: int64"
      ]
     },
     "execution_count": 33,
     "metadata": {},
     "output_type": "execute_result"
    }
   ],
   "source": [
    "y_test.value_counts()"
   ]
  },
  {
   "cell_type": "markdown",
   "metadata": {},
   "source": [
    "Bernoulli NB-model"
   ]
  },
  {
   "cell_type": "code",
   "execution_count": 34,
   "metadata": {},
   "outputs": [],
   "source": [
    "from sklearn import metrics\n",
    "from sklearn.metrics import classification_report\n",
    "from sklearn.metrics import accuracy_score\n",
    "from sklearn.metrics import precision_recall_fscore_support as score\n",
    "from sklearn.metrics import roc_curve\n",
    "from sklearn.metrics import roc_auc_score\n",
    "\n",
    "from sklearn import model_selection, naive_bayes\n",
    "from sklearn.model_selection import cross_val_score\n",
    "from sklearn.metrics import accuracy_score, recall_score, precision_score"
   ]
  },
  {
   "cell_type": "code",
   "execution_count": 35,
   "metadata": {},
   "outputs": [],
   "source": [
    "from sklearn.naive_bayes import BernoulliNB\n",
    "model = BernoulliNB(fit_prior=True, alpha=1)\n",
    "nb = model.fit(X_train, y_train)"
   ]
  },
  {
   "cell_type": "code",
   "execution_count": 36,
   "metadata": {},
   "outputs": [],
   "source": [
    "pd = nb.predict(X_test)"
   ]
  },
  {
   "cell_type": "code",
   "execution_count": 37,
   "metadata": {},
   "outputs": [
    {
     "name": "stdout",
     "output_type": "stream",
     "text": [
      "Accuracy: 0.8638472327111878\n",
      "Precision: 0.6395348837209303\n",
      "Recall: 0.7181719260065288\n"
     ]
    }
   ],
   "source": [
    "print(\"Accuracy:\",metrics.accuracy_score(y_test, pd))\n",
    "print(\"Precision:\",metrics.precision_score(y_test, pd))\n",
    "print(\"Recall:\",metrics.recall_score(y_test, pd))"
   ]
  },
  {
   "cell_type": "code",
   "execution_count": 38,
   "metadata": {},
   "outputs": [
    {
     "data": {
      "image/png": "[encoded data removed]",
      "text/plain": [
       "<Figure size 432x288 with 2 Axes>"
      ]
     },
     "metadata": {
      "needs_background": "light"
     },
     "output_type": "display_data"
    }
   ],
   "source": [
    "from sklearn.metrics import plot_confusion_matrix\n",
    "from mlxtend.plotting import plot_decision_regions\n",
    "\n",
    "matrix = plot_confusion_matrix(nb, X_test, y_test, cmap=plt.cm.Blues)\n",
    "plt.title('Confusion Matrix for Naive-Bayes')\n",
    "plt.show(matrix)\n",
    "plt.show()"
   ]
  },
  {
   "cell_type": "code",
   "execution_count": 39,
   "metadata": {},
   "outputs": [
    {
     "data": {
      "image/png": "[encoded data removed]",
      "text/plain": [
       "<Figure size 432x288 with 1 Axes>"
      ]
     },
     "metadata": {
      "needs_background": "light"
     },
     "output_type": "display_data"
    }
   ],
   "source": [
    "nb_roc_auc = roc_auc_score(y_test, model.fit(X_train, y_train).predict(X_test))\n",
    "fpr, tpr, thresholds = roc_curve(y_test, model.fit(X_train, y_train).predict_proba(X_test)[:,1])\n",
    "plt.figure()\n",
    "plt.plot(fpr, tpr, label='NB (area = %0.2f)' % nb_roc_auc)\n",
    "plt.plot([0, 1], [0, 1],'r--')\n",
    "plt.xlim([0.0, 1.0])\n",
    "plt.ylim([0.0, 1.05])\n",
    "plt.xlabel('False Positive Rate')\n",
    "plt.ylabel('True Positive Rate')\n",
    "plt.title('ROC for Naive-Bayes model')\n",
    "plt.legend(loc=\"lower right\")\n",
    "plt.savefig('NB_model')\n",
    "plt.show()"
   ]
  },
  {
   "cell_type": "markdown",
   "metadata": {},
   "source": [
    "Naive-Bayes with Cross Validation"
   ]
  },
  {
   "cell_type": "code",
   "execution_count": 40,
   "metadata": {},
   "outputs": [],
   "source": [
    "def performCV(X, Y, model, folds, measure):\n",
    "  return cross_val_score(model, X, Y, cv=folds, scoring=measure)"
   ]
  },
  {
   "cell_type": "markdown",
   "metadata": {},
   "source": [
    "5-fold Cross Validation"
   ]
  },
  {
   "cell_type": "code",
   "execution_count": 41,
   "metadata": {},
   "outputs": [],
   "source": [
    "model =  BernoulliNB()\n",
    "\n",
    "accuracy = performCV(X_test, y_test, model, 5, 'accuracy')\n",
    "recall = performCV(X_test, y_test, model, 5, 'recall')\n",
    "precision = performCV(X_test, y_test, model, 5, 'precision')\n",
    "f1score = performCV(X_test, y_test, model, 5, 'f1')"
   ]
  },
  {
   "cell_type": "code",
   "execution_count": 42,
   "metadata": {},
   "outputs": [
    {
     "name": "stdout",
     "output_type": "stream",
     "text": [
      "Accuracy:  0.8652481092790432 Recall:  0.7219731074517237 Precision:  0.6430556778483123 f1-score:  0.6801529347768078\n"
     ]
    }
   ],
   "source": [
    "print(\"Accuracy: \", accuracy.mean(), \"Recall: \", recall.mean(), \"Precision: \", \n",
    "      precision.mean(), \"f1-score: \", f1score.mean())"
   ]
  },
  {
   "cell_type": "markdown",
   "metadata": {},
   "source": [
    "10-fold Cross Validation"
   ]
  },
  {
   "cell_type": "code",
   "execution_count": 98,
   "metadata": {},
   "outputs": [],
   "source": [
    "model =  BernoulliNB()\n",
    "\n",
    "accuracy = performCV(X_test, y_test, model, 10, 'accuracy')\n",
    "recall = performCV(X_test, y_test, model, 10, 'recall')\n",
    "precision = performCV(X_test, y_test, model, 10, 'precision')\n",
    "f1score = performCV(X_test, y_test, model, 10, 'f1')"
   ]
  },
  {
   "cell_type": "code",
   "execution_count": 99,
   "metadata": {},
   "outputs": [
    {
     "name": "stdout",
     "output_type": "stream",
     "text": [
      "Accuracy:  0.8650335157653408 Recall:  0.7203878593490141 Precision:  0.642940115558289 f1-score:  0.6792610325233983\n"
     ]
    }
   ],
   "source": [
    "print(\"Accuracy: \", accuracy.mean(), \"Recall: \", recall.mean(), \"Precision: \", \n",
    "      precision.mean(), \"f1-score: \", f1score.mean())"
   ]
  },
  {
   "cell_type": "code",
   "execution_count": 100,
   "metadata": {},
   "outputs": [
    {
     "data": {
      "text/plain": [
       "Text(0.5, 1.0, 'PR-curve: Naive-Bayes AP=0.52')"
      ]
     },
     "execution_count": 100,
     "metadata": {},
     "output_type": "execute_result"
    },
    {
     "data": {
      "image/png": "[encoded data removed]",
      "text/plain": [
       "<Figure size 432x288 with 1 Axes>"
      ]
     },
     "metadata": {
      "needs_background": "light"
     },
     "output_type": "display_data"
    }
   ],
   "source": [
    "from sklearn.metrics import precision_recall_curve\n",
    "from sklearn.metrics import plot_precision_recall_curve\n",
    "import matplotlib.pyplot as plt\n",
    "\n",
    "disp = plot_precision_recall_curve(nb, X_test, y_test)\n",
    "disp.ax_.set_title('PR-curve: Naive-Bayes '\n",
    "                   'AP={0:0.2f}'.format(average_precision))"
   ]
  }
 ],
 "metadata": {
  "kernelspec": {
   "display_name": "Python 3",
   "language": "python",
   "name": "python3"
  },
  "language_info": {
   "codemirror_mode": {
    "name": "ipython",
    "version": 3
   },
   "file_extension": ".py",
   "mimetype": "text/x-python",
   "name": "python",
   "nbconvert_exporter": "python",
   "pygments_lexer": "ipython3",
   "version": "3.8.3"
  }
 },
 "nbformat": 4,
 "nbformat_minor": 4
}
