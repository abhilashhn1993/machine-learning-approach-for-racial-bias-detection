{
  "nbformat": 4,
  "nbformat_minor": 0,
  "metadata": {
    "colab": {
      "name": "Logistic_Reg.ipynb",
      "provenance": [],
      "collapsed_sections": []
    },
    "kernelspec": {
      "display_name": "Python 3",
      "language": "python",
      "name": "python3"
    },
    "language_info": {
      "codemirror_mode": {
        "name": "ipython",
        "version": 3
      },
      "file_extension": ".py",
      "mimetype": "text/x-python",
      "name": "python",
      "nbconvert_exporter": "python",
      "pygments_lexer": "ipython3",
      "version": "3.8.3"
    }
  },
  "cells": [
    {
      "cell_type": "markdown",
      "metadata": {
        "id": "HtfwDI4Vfzje"
      },
      "source": [
        "Impoting necessary libraries \n"
      ]
    },
    {
      "cell_type": "code",
      "metadata": {
        "id": "rlcMcdlgTqUs"
      },
      "source": [
        "import os\n",
        "import re\n",
        "import pandas as pd\n",
        "import numpy as np\n",
        "import matplotlib.pyplot as plt\n",
        "import seaborn as sns\n",
        "%matplotlib inline"
      ],
      "execution_count": null,
      "outputs": []
    },
    {
      "cell_type": "code",
      "metadata": {
        "id": "cb_5khAoTxpm"
      },
      "source": [
        "df = pd.read_csv('crime_data_new.csv')\n",
        "df"
      ],
      "execution_count": null,
      "outputs": []
    },
    {
      "cell_type": "code",
      "metadata": {
        "id": "ROghyBuzG0Hm",
        "outputId": "5b14e472-79bc-4714-b052-fd07fdc161d4"
      },
      "source": [
        "df"
      ],
      "execution_count": null,
      "outputs": [
        {
          "output_type": "execute_result",
          "data": {
            "text/html": [
              "<div>\n",
              "<style scoped>\n",
              "    .dataframe tbody tr th:only-of-type {\n",
              "        vertical-align: middle;\n",
              "    }\n",
              "\n",
              "    .dataframe tbody tr th {\n",
              "        vertical-align: top;\n",
              "    }\n",
              "\n",
              "    .dataframe thead th {\n",
              "        text-align: right;\n",
              "    }\n",
              "</style>\n",
              "<table border=\"1\" class=\"dataframe\">\n",
              "  <thead>\n",
              "    <tr style=\"text-align: right;\">\n",
              "      <th></th>\n",
              "      <th>recstat</th>\n",
              "      <th>inout</th>\n",
              "      <th>trhsloc</th>\n",
              "      <th>crimsusp</th>\n",
              "      <th>typeofid</th>\n",
              "      <th>othpers</th>\n",
              "      <th>sumissue</th>\n",
              "      <th>offunif</th>\n",
              "      <th>frisked</th>\n",
              "      <th>searched</th>\n",
              "      <th>...</th>\n",
              "      <th>sb_hdobj</th>\n",
              "      <th>sb_other</th>\n",
              "      <th>forceuse</th>\n",
              "      <th>race</th>\n",
              "      <th>age</th>\n",
              "      <th>city</th>\n",
              "      <th>weapons</th>\n",
              "      <th>physical_force</th>\n",
              "      <th>is_black</th>\n",
              "      <th>arstmade</th>\n",
              "    </tr>\n",
              "  </thead>\n",
              "  <tbody>\n",
              "    <tr>\n",
              "      <td>0</td>\n",
              "      <td>1</td>\n",
              "      <td>O</td>\n",
              "      <td>P</td>\n",
              "      <td>other</td>\n",
              "      <td>V</td>\n",
              "      <td>N</td>\n",
              "      <td>N</td>\n",
              "      <td>N</td>\n",
              "      <td>Y</td>\n",
              "      <td>N</td>\n",
              "      <td>...</td>\n",
              "      <td>N</td>\n",
              "      <td>N</td>\n",
              "      <td>N</td>\n",
              "      <td>W</td>\n",
              "      <td>33</td>\n",
              "      <td>BROOKLYN</td>\n",
              "      <td>N</td>\n",
              "      <td>N</td>\n",
              "      <td>0</td>\n",
              "      <td>N</td>\n",
              "    </tr>\n",
              "    <tr>\n",
              "      <td>1</td>\n",
              "      <td>A</td>\n",
              "      <td>O</td>\n",
              "      <td>P</td>\n",
              "      <td>other</td>\n",
              "      <td>V</td>\n",
              "      <td>N</td>\n",
              "      <td>N</td>\n",
              "      <td>N</td>\n",
              "      <td>Y</td>\n",
              "      <td>N</td>\n",
              "      <td>...</td>\n",
              "      <td>N</td>\n",
              "      <td>N</td>\n",
              "      <td>SF</td>\n",
              "      <td>B</td>\n",
              "      <td>14</td>\n",
              "      <td>MANHATTAN</td>\n",
              "      <td>N</td>\n",
              "      <td>Y</td>\n",
              "      <td>1</td>\n",
              "      <td>N</td>\n",
              "    </tr>\n",
              "    <tr>\n",
              "      <td>2</td>\n",
              "      <td>1</td>\n",
              "      <td>O</td>\n",
              "      <td>P</td>\n",
              "      <td>MISD</td>\n",
              "      <td>V</td>\n",
              "      <td>N</td>\n",
              "      <td>N</td>\n",
              "      <td>N</td>\n",
              "      <td>N</td>\n",
              "      <td>N</td>\n",
              "      <td>...</td>\n",
              "      <td>N</td>\n",
              "      <td>N</td>\n",
              "      <td>SF</td>\n",
              "      <td>B</td>\n",
              "      <td>14</td>\n",
              "      <td>MANHATTAN</td>\n",
              "      <td>N</td>\n",
              "      <td>Y</td>\n",
              "      <td>1</td>\n",
              "      <td>N</td>\n",
              "    </tr>\n",
              "    <tr>\n",
              "      <td>3</td>\n",
              "      <td>1</td>\n",
              "      <td>O</td>\n",
              "      <td>P</td>\n",
              "      <td>other</td>\n",
              "      <td>V</td>\n",
              "      <td>Y</td>\n",
              "      <td>N</td>\n",
              "      <td>N</td>\n",
              "      <td>N</td>\n",
              "      <td>N</td>\n",
              "      <td>...</td>\n",
              "      <td>N</td>\n",
              "      <td>N</td>\n",
              "      <td>N</td>\n",
              "      <td>B</td>\n",
              "      <td>14</td>\n",
              "      <td>MANHATTAN</td>\n",
              "      <td>N</td>\n",
              "      <td>N</td>\n",
              "      <td>1</td>\n",
              "      <td>N</td>\n",
              "    </tr>\n",
              "    <tr>\n",
              "      <td>4</td>\n",
              "      <td>1</td>\n",
              "      <td>O</td>\n",
              "      <td>P</td>\n",
              "      <td>other</td>\n",
              "      <td>V</td>\n",
              "      <td>Y</td>\n",
              "      <td>N</td>\n",
              "      <td>N</td>\n",
              "      <td>N</td>\n",
              "      <td>N</td>\n",
              "      <td>...</td>\n",
              "      <td>N</td>\n",
              "      <td>N</td>\n",
              "      <td>SF</td>\n",
              "      <td>B</td>\n",
              "      <td>13</td>\n",
              "      <td>MANHATTAN</td>\n",
              "      <td>N</td>\n",
              "      <td>Y</td>\n",
              "      <td>1</td>\n",
              "      <td>N</td>\n",
              "    </tr>\n",
              "    <tr>\n",
              "      <td>...</td>\n",
              "      <td>...</td>\n",
              "      <td>...</td>\n",
              "      <td>...</td>\n",
              "      <td>...</td>\n",
              "      <td>...</td>\n",
              "      <td>...</td>\n",
              "      <td>...</td>\n",
              "      <td>...</td>\n",
              "      <td>...</td>\n",
              "      <td>...</td>\n",
              "      <td>...</td>\n",
              "      <td>...</td>\n",
              "      <td>...</td>\n",
              "      <td>...</td>\n",
              "      <td>...</td>\n",
              "      <td>...</td>\n",
              "      <td>...</td>\n",
              "      <td>...</td>\n",
              "      <td>...</td>\n",
              "      <td>...</td>\n",
              "      <td>...</td>\n",
              "    </tr>\n",
              "    <tr>\n",
              "      <td>30890</td>\n",
              "      <td>1</td>\n",
              "      <td>O</td>\n",
              "      <td>P</td>\n",
              "      <td>other</td>\n",
              "      <td>P</td>\n",
              "      <td>N</td>\n",
              "      <td>N</td>\n",
              "      <td>Y</td>\n",
              "      <td>N</td>\n",
              "      <td>N</td>\n",
              "      <td>...</td>\n",
              "      <td>N</td>\n",
              "      <td>N</td>\n",
              "      <td>N</td>\n",
              "      <td>W</td>\n",
              "      <td>19</td>\n",
              "      <td>STATEN IS</td>\n",
              "      <td>N</td>\n",
              "      <td>N</td>\n",
              "      <td>0</td>\n",
              "      <td>N</td>\n",
              "    </tr>\n",
              "    <tr>\n",
              "      <td>30891</td>\n",
              "      <td>1</td>\n",
              "      <td>O</td>\n",
              "      <td>P</td>\n",
              "      <td>other</td>\n",
              "      <td>P</td>\n",
              "      <td>N</td>\n",
              "      <td>N</td>\n",
              "      <td>Y</td>\n",
              "      <td>Y</td>\n",
              "      <td>N</td>\n",
              "      <td>...</td>\n",
              "      <td>N</td>\n",
              "      <td>N</td>\n",
              "      <td>N</td>\n",
              "      <td>W</td>\n",
              "      <td>38</td>\n",
              "      <td>STATEN IS</td>\n",
              "      <td>N</td>\n",
              "      <td>N</td>\n",
              "      <td>0</td>\n",
              "      <td>N</td>\n",
              "    </tr>\n",
              "    <tr>\n",
              "      <td>30892</td>\n",
              "      <td>1</td>\n",
              "      <td>O</td>\n",
              "      <td>P</td>\n",
              "      <td>other</td>\n",
              "      <td>P</td>\n",
              "      <td>N</td>\n",
              "      <td>N</td>\n",
              "      <td>Y</td>\n",
              "      <td>Y</td>\n",
              "      <td>N</td>\n",
              "      <td>...</td>\n",
              "      <td>N</td>\n",
              "      <td>N</td>\n",
              "      <td>N</td>\n",
              "      <td>Z</td>\n",
              "      <td>22</td>\n",
              "      <td>STATEN IS</td>\n",
              "      <td>N</td>\n",
              "      <td>N</td>\n",
              "      <td>0</td>\n",
              "      <td>N</td>\n",
              "    </tr>\n",
              "    <tr>\n",
              "      <td>30893</td>\n",
              "      <td>1</td>\n",
              "      <td>O</td>\n",
              "      <td>P</td>\n",
              "      <td>other</td>\n",
              "      <td>V</td>\n",
              "      <td>N</td>\n",
              "      <td>N</td>\n",
              "      <td>Y</td>\n",
              "      <td>Y</td>\n",
              "      <td>Y</td>\n",
              "      <td>...</td>\n",
              "      <td>N</td>\n",
              "      <td>Y</td>\n",
              "      <td>N</td>\n",
              "      <td>Z</td>\n",
              "      <td>25</td>\n",
              "      <td>STATEN IS</td>\n",
              "      <td>N</td>\n",
              "      <td>N</td>\n",
              "      <td>0</td>\n",
              "      <td>Y</td>\n",
              "    </tr>\n",
              "    <tr>\n",
              "      <td>30894</td>\n",
              "      <td>1</td>\n",
              "      <td>O</td>\n",
              "      <td>P</td>\n",
              "      <td>other</td>\n",
              "      <td>P</td>\n",
              "      <td>N</td>\n",
              "      <td>Y</td>\n",
              "      <td>Y</td>\n",
              "      <td>Y</td>\n",
              "      <td>Y</td>\n",
              "      <td>...</td>\n",
              "      <td>N</td>\n",
              "      <td>N</td>\n",
              "      <td>N</td>\n",
              "      <td>W</td>\n",
              "      <td>27</td>\n",
              "      <td>STATEN IS</td>\n",
              "      <td>Y</td>\n",
              "      <td>N</td>\n",
              "      <td>0</td>\n",
              "      <td>N</td>\n",
              "    </tr>\n",
              "  </tbody>\n",
              "</table>\n",
              "<p>30895 rows × 40 columns</p>\n",
              "</div>"
            ],
            "text/plain": [
              "      recstat inout trhsloc crimsusp typeofid othpers sumissue offunif  \\\n",
              "0           1     O       P    other        V       N        N       N   \n",
              "1           A     O       P    other        V       N        N       N   \n",
              "2           1     O       P     MISD        V       N        N       N   \n",
              "3           1     O       P    other        V       Y        N       N   \n",
              "4           1     O       P    other        V       Y        N       N   \n",
              "...       ...   ...     ...      ...      ...     ...      ...     ...   \n",
              "30890       1     O       P    other        P       N        N       Y   \n",
              "30891       1     O       P    other        P       N        N       Y   \n",
              "30892       1     O       P    other        P       N        N       Y   \n",
              "30893       1     O       P    other        V       N        N       Y   \n",
              "30894       1     O       P    other        P       N        Y       Y   \n",
              "\n",
              "      frisked searched  ... sb_hdobj sb_other forceuse race age       city  \\\n",
              "0           Y        N  ...        N        N        N    W  33   BROOKLYN   \n",
              "1           Y        N  ...        N        N       SF    B  14  MANHATTAN   \n",
              "2           N        N  ...        N        N       SF    B  14  MANHATTAN   \n",
              "3           N        N  ...        N        N        N    B  14  MANHATTAN   \n",
              "4           N        N  ...        N        N       SF    B  13  MANHATTAN   \n",
              "...       ...      ...  ...      ...      ...      ...  ...  ..        ...   \n",
              "30890       N        N  ...        N        N        N    W  19  STATEN IS   \n",
              "30891       Y        N  ...        N        N        N    W  38  STATEN IS   \n",
              "30892       Y        N  ...        N        N        N    Z  22  STATEN IS   \n",
              "30893       Y        Y  ...        N        Y        N    Z  25  STATEN IS   \n",
              "30894       Y        Y  ...        N        N        N    W  27  STATEN IS   \n",
              "\n",
              "      weapons physical_force is_black arstmade  \n",
              "0           N              N        0        N  \n",
              "1           N              Y        1        N  \n",
              "2           N              Y        1        N  \n",
              "3           N              N        1        N  \n",
              "4           N              Y        1        N  \n",
              "...       ...            ...      ...      ...  \n",
              "30890       N              N        0        N  \n",
              "30891       N              N        0        N  \n",
              "30892       N              N        0        N  \n",
              "30893       N              N        0        Y  \n",
              "30894       Y              N        0        N  \n",
              "\n",
              "[30895 rows x 40 columns]"
            ]
          },
          "metadata": {
            "tags": []
          },
          "execution_count": 39
        }
      ]
    },
    {
      "cell_type": "code",
      "metadata": {
        "id": "GpV9IK_cG0Hn",
        "outputId": "652c1c31-40e4-46a7-ab05-b8420075506e"
      },
      "source": [
        "pd.crosstab(df.race, df.arstmade)"
      ],
      "execution_count": null,
      "outputs": [
        {
          "output_type": "execute_result",
          "data": {
            "text/html": [
              "<div>\n",
              "<style scoped>\n",
              "    .dataframe tbody tr th:only-of-type {\n",
              "        vertical-align: middle;\n",
              "    }\n",
              "\n",
              "    .dataframe tbody tr th {\n",
              "        vertical-align: top;\n",
              "    }\n",
              "\n",
              "    .dataframe thead th {\n",
              "        text-align: right;\n",
              "    }\n",
              "</style>\n",
              "<table border=\"1\" class=\"dataframe\">\n",
              "  <thead>\n",
              "    <tr style=\"text-align: right;\">\n",
              "      <th>arstmade</th>\n",
              "      <th>N</th>\n",
              "      <th>Y</th>\n",
              "    </tr>\n",
              "    <tr>\n",
              "      <th>race</th>\n",
              "      <th></th>\n",
              "      <th></th>\n",
              "    </tr>\n",
              "  </thead>\n",
              "  <tbody>\n",
              "    <tr>\n",
              "      <td>B</td>\n",
              "      <td>13377</td>\n",
              "      <td>3050</td>\n",
              "    </tr>\n",
              "    <tr>\n",
              "      <td>Q</td>\n",
              "      <td>5291</td>\n",
              "      <td>1607</td>\n",
              "    </tr>\n",
              "    <tr>\n",
              "      <td>W</td>\n",
              "      <td>2792</td>\n",
              "      <td>529</td>\n",
              "    </tr>\n",
              "    <tr>\n",
              "      <td>Z</td>\n",
              "      <td>3418</td>\n",
              "      <td>831</td>\n",
              "    </tr>\n",
              "  </tbody>\n",
              "</table>\n",
              "</div>"
            ],
            "text/plain": [
              "arstmade      N     Y\n",
              "race                 \n",
              "B         13377  3050\n",
              "Q          5291  1607\n",
              "W          2792   529\n",
              "Z          3418   831"
            ]
          },
          "metadata": {
            "tags": []
          },
          "execution_count": 40
        }
      ]
    },
    {
      "cell_type": "code",
      "metadata": {
        "id": "kt10YQ73G0Hn",
        "outputId": "948ccc10-3b4c-475c-d766-a71736d592df"
      },
      "source": [
        "pd.crosstab(df.race, df.frisked)"
      ],
      "execution_count": null,
      "outputs": [
        {
          "output_type": "execute_result",
          "data": {
            "text/html": [
              "<div>\n",
              "<style scoped>\n",
              "    .dataframe tbody tr th:only-of-type {\n",
              "        vertical-align: middle;\n",
              "    }\n",
              "\n",
              "    .dataframe tbody tr th {\n",
              "        vertical-align: top;\n",
              "    }\n",
              "\n",
              "    .dataframe thead th {\n",
              "        text-align: right;\n",
              "    }\n",
              "</style>\n",
              "<table border=\"1\" class=\"dataframe\">\n",
              "  <thead>\n",
              "    <tr style=\"text-align: right;\">\n",
              "      <th>frisked</th>\n",
              "      <th>N</th>\n",
              "      <th>Y</th>\n",
              "    </tr>\n",
              "    <tr>\n",
              "      <th>race</th>\n",
              "      <th></th>\n",
              "      <th></th>\n",
              "    </tr>\n",
              "  </thead>\n",
              "  <tbody>\n",
              "    <tr>\n",
              "      <td>B</td>\n",
              "      <td>4937</td>\n",
              "      <td>11490</td>\n",
              "    </tr>\n",
              "    <tr>\n",
              "      <td>Q</td>\n",
              "      <td>2374</td>\n",
              "      <td>4524</td>\n",
              "    </tr>\n",
              "    <tr>\n",
              "      <td>W</td>\n",
              "      <td>1529</td>\n",
              "      <td>1792</td>\n",
              "    </tr>\n",
              "    <tr>\n",
              "      <td>Z</td>\n",
              "      <td>1498</td>\n",
              "      <td>2751</td>\n",
              "    </tr>\n",
              "  </tbody>\n",
              "</table>\n",
              "</div>"
            ],
            "text/plain": [
              "frisked     N      Y\n",
              "race                \n",
              "B        4937  11490\n",
              "Q        2374   4524\n",
              "W        1529   1792\n",
              "Z        1498   2751"
            ]
          },
          "metadata": {
            "tags": []
          },
          "execution_count": 41
        }
      ]
    },
    {
      "cell_type": "code",
      "metadata": {
        "id": "_GYfX4_CG0Ho"
      },
      "source": [
        "    n = 500\n",
        "    gender = np.random.choice(['Yes','No'], n)\n",
        "    mark = np.random.choice([True,False], n)\n",
        "    race = np.random.choice(['BASELINE','WEEK 12', 'WEEK 24', 'WEEK 4'], n)\n",
        "    df = pd.DataFrame({'arstmade':gender,'mark':mark,'race':race})\n",
        "    ct = pd.crosstab([df.arstmade, df.race],df.mark)\n",
        "    ct.plot.bar(stacked=True)\n",
        "    plt.show()\n"
      ],
      "execution_count": null,
      "outputs": []
    },
    {
      "cell_type": "code",
      "metadata": {
        "id": "4hUhlfING0Ho"
      },
      "source": [
        "tab = pd.crosstab(df['race'], df['arstmade'],margins=True).sort_values('All',ascending=False)\n",
        "tab = tab.drop('All',axis=1)\n",
        "tab = tab.drop('All',axis=0)\n",
        "tab.plot(kind='bar', stacked=True)\n",
        "plt.show()"
      ],
      "execution_count": null,
      "outputs": []
    },
    {
      "cell_type": "code",
      "metadata": {
        "colab": {
          "base_uri": "https://localhost:8080/"
        },
        "id": "WtKWtd4RT2Ti",
        "outputId": "5f2b9206-f1e4-44ad-a8fc-def47680ff26"
      },
      "source": [
        "#df = df.drop([\"Unnamed: 0\"], axis =1)\n",
        "df.shape"
      ],
      "execution_count": null,
      "outputs": [
        {
          "output_type": "execute_result",
          "data": {
            "text/plain": [
              "(30895, 40)"
            ]
          },
          "metadata": {
            "tags": []
          },
          "execution_count": 44
        }
      ]
    },
    {
      "cell_type": "code",
      "metadata": {
        "id": "68O-FXwLT31A"
      },
      "source": [
        "def get_train_test(data):\n",
        "    data.arstmade = data.arstmade.astype('int')\n",
        "    y_train = data['arstmade']\n",
        "    X_train = data.loc[: , data.columns != 'arstmade']\n",
        "    return X_train, y_train"
      ],
      "execution_count": null,
      "outputs": []
    },
    {
      "cell_type": "code",
      "metadata": {
        "id": "N_9A_wFDT8Vj"
      },
      "source": [
        "for i in range(len(df)):\n",
        "    if df.loc[i,'arstmade'] == 'N':\n",
        "        df.loc[i,'arstmade'] = 0\n",
        "    else:\n",
        "        df.loc[i,'arstmade'] = 1"
      ],
      "execution_count": null,
      "outputs": []
    },
    {
      "cell_type": "code",
      "metadata": {
        "colab": {
          "base_uri": "https://localhost:8080/"
        },
        "id": "It5LYvYGUBiT",
        "outputId": "c0b823b0-aaf5-4928-c68e-148a9fc2336e"
      },
      "source": [
        "df.arstmade.value_counts()"
      ],
      "execution_count": null,
      "outputs": [
        {
          "output_type": "execute_result",
          "data": {
            "text/plain": [
              "0    24878\n",
              "1     6017\n",
              "Name: arstmade, dtype: int64"
            ]
          },
          "metadata": {
            "tags": []
          },
          "execution_count": 47
        }
      ]
    },
    {
      "cell_type": "code",
      "metadata": {
        "id": "dedKDLHmUFwn"
      },
      "source": [
        "cols = df.columns\n",
        "cols"
      ],
      "execution_count": null,
      "outputs": []
    },
    {
      "cell_type": "code",
      "metadata": {
        "id": "VXngBKfBUIpT"
      },
      "source": [
        "num_cols = df._get_numeric_data().columns\n",
        "num_cols"
      ],
      "execution_count": null,
      "outputs": []
    },
    {
      "cell_type": "code",
      "metadata": {
        "id": "6zAyAHKTULRq"
      },
      "source": [
        "cat_cols = list(set(cols) -set(num_cols))\n",
        "cat_cols"
      ],
      "execution_count": null,
      "outputs": []
    },
    {
      "cell_type": "markdown",
      "metadata": {
        "id": "yq1pEsw-f9Xd"
      },
      "source": [
        "# One-Hot encoding \n"
      ]
    },
    {
      "cell_type": "code",
      "metadata": {
        "colab": {
          "base_uri": "https://localhost:8080/"
        },
        "id": "dc7YnzwmUSds",
        "outputId": "a6e407dd-c21d-43a2-f54a-92d1feb7f869"
      },
      "source": [
        "!pip install dummyPy\n",
        "from dummyPy import OneHotEncoder"
      ],
      "execution_count": null,
      "outputs": [
        {
          "output_type": "stream",
          "text": [
            "Requirement already satisfied: dummyPy in c:\\users\\ronal\\anaconda3\\lib\\site-packages (0.3)\n"
          ],
          "name": "stdout"
        }
      ]
    },
    {
      "cell_type": "code",
      "metadata": {
        "id": "2esqK0RsUUjH"
      },
      "source": [
        "encoder = OneHotEncoder(cat_cols)\n",
        "encoder.fit(df)"
      ],
      "execution_count": null,
      "outputs": []
    },
    {
      "cell_type": "code",
      "metadata": {
        "colab": {
          "base_uri": "https://localhost:8080/"
        },
        "id": "D8qeJpnOUXSW",
        "outputId": "81f4d4cd-58e1-4368-e65a-b27331f2d135"
      },
      "source": [
        "df_new = encoder.transform(df)\n",
        "len(df_new.columns)"
      ],
      "execution_count": null,
      "outputs": [
        {
          "output_type": "execute_result",
          "data": {
            "text/plain": [
              "97"
            ]
          },
          "metadata": {
            "tags": []
          },
          "execution_count": 54
        }
      ]
    },
    {
      "cell_type": "code",
      "metadata": {
        "id": "MB1z6x7zUZUw"
      },
      "source": [
        "df_new.head()\n",
        "for col in df_new.columns: df_new[col] = df_new[col].astype(\"int64\") "
      ],
      "execution_count": null,
      "outputs": []
    },
    {
      "cell_type": "code",
      "metadata": {
        "id": "mZXpht-QUcKT"
      },
      "source": [
        "y = df_new['arstmade']"
      ],
      "execution_count": null,
      "outputs": []
    },
    {
      "cell_type": "code",
      "metadata": {
        "id": "Ampi2bRfUdwX"
      },
      "source": [
        "X = df_new.iloc[:,0:96]"
      ],
      "execution_count": null,
      "outputs": []
    },
    {
      "cell_type": "markdown",
      "metadata": {
        "id": "y2BDqcCRgCsq"
      },
      "source": [
        "Splitting to train and test \n"
      ]
    },
    {
      "cell_type": "code",
      "metadata": {
        "id": "bzU5Pu92Uf1l"
      },
      "source": [
        "from sklearn.model_selection import train_test_split\n",
        "X_train, X_test, y_train, y_test = train_test_split(X, y, test_size=0.3, random_state=0)"
      ],
      "execution_count": null,
      "outputs": []
    },
    {
      "cell_type": "markdown",
      "metadata": {
        "id": "dh9QeO9pG0Hs"
      },
      "source": [
        "Logistic "
      ]
    },
    {
      "cell_type": "code",
      "metadata": {
        "id": "bkwfHcdFUg3X"
      },
      "source": [
        "from sklearn.linear_model import LogisticRegression\n",
        "logreg = LogisticRegression()"
      ],
      "execution_count": null,
      "outputs": []
    },
    {
      "cell_type": "code",
      "metadata": {
        "id": "z4cC_jR4G0Hs"
      },
      "source": [
        "from sklearn.model_selection import cross_val_score\n",
        "from sklearn.metrics import accuracy_score, recall_score, precision_score\n",
        "from sklearn.feature_selection import RFE"
      ],
      "execution_count": null,
      "outputs": []
    },
    {
      "cell_type": "code",
      "metadata": {
        "colab": {
          "base_uri": "https://localhost:8080/"
        },
        "id": "pSHb4b1fUjjH",
        "outputId": "ebcf5daf-309e-4228-f5b0-88b822038183"
      },
      "source": [
        "lr_model = logreg.fit(X_train, y_train)"
      ],
      "execution_count": null,
      "outputs": [
        {
          "output_type": "stream",
          "text": [
            "C:\\Users\\ronal\\Anaconda3\\lib\\site-packages\\sklearn\\linear_model\\logistic.py:432: FutureWarning: Default solver will be changed to 'lbfgs' in 0.22. Specify a solver to silence this warning.\n",
            "  FutureWarning)\n"
          ],
          "name": "stderr"
        },
        {
          "output_type": "execute_result",
          "data": {
            "text/plain": [
              "RFE(estimator=LogisticRegression(C=1.0, class_weight=None, dual=False,\n",
              "                                 fit_intercept=True, intercept_scaling=1,\n",
              "                                 l1_ratio=None, max_iter=100,\n",
              "                                 multi_class='warn', n_jobs=None, penalty='l2',\n",
              "                                 random_state=None, solver='warn', tol=0.0001,\n",
              "                                 verbose=0, warm_start=False),\n",
              "    n_features_to_select=20, step=1, verbose=0)"
            ]
          },
          "metadata": {
            "tags": []
          },
          "execution_count": 61
        }
      ]
    },
    {
      "cell_type": "code",
      "metadata": {
        "id": "BxzdzUs_hctk"
      },
      "source": [
        "y_pred = logreg.predict(X_test)"
      ],
      "execution_count": null,
      "outputs": []
    },
    {
      "cell_type": "code",
      "metadata": {
        "colab": {
          "base_uri": "https://localhost:8080/"
        },
        "id": "TiwBuKnwhgqO",
        "outputId": "e1ba66dd-31a2-4fdd-aa90-9f3b07b3f6d6"
      },
      "source": [
        "from sklearn import metrics\n",
        "cnf_matrix = metrics.confusion_matrix(y_test, y_pred)\n",
        "cnf_matrix"
      ],
      "execution_count": null,
      "outputs": [
        {
          "output_type": "execute_result",
          "data": {
            "text/plain": [
              "array([[7139,  292],\n",
              "       [ 683, 1155]], dtype=int64)"
            ]
          },
          "metadata": {
            "tags": []
          },
          "execution_count": 135
        }
      ]
    },
    {
      "cell_type": "code",
      "metadata": {
        "id": "T1lgDelcG0Ht",
        "outputId": "d95bc2fd-a342-4714-c9f6-5ce00809ff09"
      },
      "source": [
        "class_names=[0,1] # name  of classes\n",
        "fig, ax = plt.subplots()\n",
        "tick_marks = np.arange(len(class_names))\n",
        "plt.xticks(tick_marks, class_names)\n",
        "plt.yticks(tick_marks, class_names)\n",
        "# create heatmap\n",
        "sns.heatmap(pd.DataFrame(cnf_matrix), annot=True, cmap=\"YlGnBu\" ,fmt='g')\n",
        "ax.xaxis.set_label_position(\"top\")\n",
        "plt.tight_layout()\n",
        "plt.title('Confusion matrix', y=1.1)\n",
        "plt.ylabel('Actual label')\n",
        "plt.xlabel('Predicted label')"
      ],
      "execution_count": null,
      "outputs": [
        {
          "output_type": "execute_result",
          "data": {
            "text/plain": [
              "Text(0.5, 257.44, 'Predicted label')"
            ]
          },
          "metadata": {
            "tags": []
          },
          "execution_count": 136
        },
        {
          "output_type": "display_data",
          "data": {
            "image/png": "[encoded data removed]",
            "text/plain": [
              "<Figure size 432x288 with 2 Axes>"
            ]
          },
          "metadata": {
            "tags": [],
            "needs_background": "light"
          }
        }
      ]
    },
    {
      "cell_type": "code",
      "metadata": {
        "id": "Oxee4s_PG0Ht",
        "outputId": "867f2d35-f32f-43aa-b63f-5c8198642018"
      },
      "source": [
        "print(\"Accuracy:\",metrics.accuracy_score(y_test, y_pred))\n",
        "print(\"Precision:\",metrics.precision_score(y_test, y_pred))\n",
        "print(\"Recall:\",metrics.recall_score(y_test, y_pred))\n",
        "print(\"F1:\",metrics.f1_score(y_test, y_pred))"
      ],
      "execution_count": null,
      "outputs": [
        {
          "output_type": "stream",
          "text": [
            "Accuracy: 0.8948106591865358\n",
            "Precision: 0.7982031789910159\n",
            "Recall: 0.6284004352557128\n",
            "F1: 0.7031963470319634\n"
          ],
          "name": "stdout"
        }
      ]
    },
    {
      "cell_type": "code",
      "metadata": {
        "id": "envAugKZG0Hu",
        "outputId": "82cf66ed-7bc3-45e5-875e-75e165f480dc"
      },
      "source": [
        "y_pred_proba = logreg.predict_proba(X_test)[::,1]\n",
        "fpr, tpr, _ = metrics.roc_curve(y_test,  y_pred_proba)\n",
        "auc = metrics.roc_auc_score(y_test, y_pred_proba)\n",
        "plt.plot(fpr,tpr,label=\"data 1, auc=\"+str(auc))\n",
        "plt.legend(loc=4)\n",
        "plt.show()"
      ],
      "execution_count": null,
      "outputs": [
        {
          "output_type": "display_data",
          "data": {
            "image/png": "[encoded data removed]",
            "text/plain": [
              "<Figure size 432x288 with 1 Axes>"
            ]
          },
          "metadata": {
            "tags": [],
            "needs_background": "light"
          }
        }
      ]
    },
    {
      "cell_type": "markdown",
      "metadata": {
        "id": "jpRtMQafG0Hu"
      },
      "source": [
        "# Logistic with CV"
      ]
    },
    {
      "cell_type": "code",
      "metadata": {
        "id": "XwsOW9QQG0Hu"
      },
      "source": [
        "from sklearn.linear_model import LogisticRegressionCV\n",
        "clf = LogisticRegressionCV(cv=10, random_state=0).fit(X_train, y_train)"
      ],
      "execution_count": null,
      "outputs": []
    },
    {
      "cell_type": "code",
      "metadata": {
        "id": "ch7szR8RG0Hu",
        "outputId": "50cce28d-c691-405b-bbac-c7a15f711304"
      },
      "source": [
        "clf.score(X_test,y_test)"
      ],
      "execution_count": null,
      "outputs": [
        {
          "output_type": "execute_result",
          "data": {
            "text/plain": [
              "0.8950264321933327"
            ]
          },
          "metadata": {
            "tags": []
          },
          "execution_count": 71
        }
      ]
    },
    {
      "cell_type": "code",
      "metadata": {
        "id": "I0_VLTRHG0Hu"
      },
      "source": [
        "y_pred_L=clf.predict(X_test)"
      ],
      "execution_count": null,
      "outputs": []
    },
    {
      "cell_type": "code",
      "metadata": {
        "colab": {
          "base_uri": "https://localhost:8080/"
        },
        "id": "ng6IMEXphnS4",
        "outputId": "5755ecde-5054-469e-bc1b-a12b0c989f45"
      },
      "source": [
        "print(\"Accuracy:\",metrics.accuracy_score(y_test, y_pred_L))\n",
        "print(\"Precision:\",metrics.precision_score(y_test, y_pred_L))\n",
        "print(\"Recall:\",metrics.recall_score(y_test, y_pred_L))\n",
        "print(\"F1:\",metrics.f1_score(y_test, y_pred_L))"
      ],
      "execution_count": null,
      "outputs": [
        {
          "output_type": "stream",
          "text": [
            "Accuracy: 0.8950264321933327\n",
            "Precision: 0.7984817115251898\n",
            "Recall: 0.6294885745375408\n",
            "F1: 0.703985397018558\n"
          ],
          "name": "stdout"
        }
      ]
    },
    {
      "cell_type": "code",
      "metadata": {
        "id": "Im_6fbEwG0Hv",
        "outputId": "bcc00509-b1c5-4efb-b9fb-4746056b67d0"
      },
      "source": [
        "class_names=[0,1] # name  of classes\n",
        "fig, ax = plt.subplots()\n",
        "tick_marks = np.arange(len(class_names))\n",
        "plt.xticks(tick_marks, class_names)\n",
        "plt.yticks(tick_marks, class_names)\n",
        "# create heatmap\n",
        "sns.heatmap(pd.DataFrame(cnf_matrix), annot=True, cmap=\"YlGnBu\" ,fmt='g')\n",
        "ax.xaxis.set_label_position(\"top\")\n",
        "plt.tight_layout()\n",
        "plt.title('Confusion matrix', y=1.1)\n",
        "plt.ylabel('Actual label')\n",
        "plt.xlabel('Predicted label')"
      ],
      "execution_count": null,
      "outputs": [
        {
          "output_type": "execute_result",
          "data": {
            "text/plain": [
              "Text(0.5, 257.44, 'Predicted label')"
            ]
          },
          "metadata": {
            "tags": []
          },
          "execution_count": 74
        },
        {
          "output_type": "display_data",
          "data": {
            "image/png": "[encoded data removed]",
            "text/plain": [
              "<Figure size 432x288 with 2 Axes>"
            ]
          },
          "metadata": {
            "tags": [],
            "needs_background": "light"
          }
        }
      ]
    },
    {
      "cell_type": "code",
      "metadata": {
        "id": "OkiR2EHgG0Hv",
        "outputId": "498ea78b-4ee3-499a-fe47-60d5ec6200ab"
      },
      "source": [
        "y_pred_proba = clf.predict_proba(X_test)[::,1]\n",
        "fpr, tpr, _ = metrics.roc_curve(y_test,  y_pred_proba)\n",
        "auc = metrics.roc_auc_score(y_test, y_pred_proba)\n",
        "plt.plot(fpr,tpr,label=\"data 1, auc=\"+str(auc))\n",
        "plt.legend(loc=4)\n",
        "plt.show()"
      ],
      "execution_count": null,
      "outputs": [
        {
          "output_type": "display_data",
          "data": {
            "image/png": "[encoded data removed]",
            "text/plain": [
              "<Figure size 432x288 with 1 Axes>"
            ]
          },
          "metadata": {
            "tags": [],
            "needs_background": "light"
          }
        }
      ]
    },
    {
      "cell_type": "code",
      "metadata": {
        "id": "ipqAfsk2Yeuj"
      },
      "source": [
        "y_train.value_counts()"
      ],
      "execution_count": null,
      "outputs": []
    },
    {
      "cell_type": "code",
      "metadata": {
        "id": "3sZyT5q0VRDS"
      },
      "source": [
        "y_train.describe()"
      ],
      "execution_count": null,
      "outputs": []
    },
    {
      "cell_type": "markdown",
      "metadata": {
        "id": "tR7FppPpfAyY"
      },
      "source": [
        "# Stochastic gradient\n",
        "\n"
      ]
    },
    {
      "cell_type": "code",
      "metadata": {
        "id": "-ycWFBCnhrna"
      },
      "source": [
        "from sklearn.linear_model import SGDClassifier"
      ],
      "execution_count": null,
      "outputs": []
    },
    {
      "cell_type": "markdown",
      "metadata": {
        "id": "_0ImOvYefarj"
      },
      "source": [
        "Scaling the data before fitting in the model\n"
      ]
    },
    {
      "cell_type": "code",
      "metadata": {
        "id": "PTiwnudQ_BKq"
      },
      "source": [
        "#from sklearn.preprocessing import StandardScaler\n",
        "#scaler = StandardScaler()\n",
        "#scaler.fit(X_train)  \n",
        "#X_train = scaler.transform(X_train)\n",
        "#X_test = scaler.transform(X_test)"
      ],
      "execution_count": null,
      "outputs": []
    },
    {
      "cell_type": "markdown",
      "metadata": {
        "id": "JWC10Jiefj9-"
      },
      "source": [
        "Finding the best number of iterations for the global minima\n"
      ]
    },
    {
      "cell_type": "code",
      "metadata": {
        "colab": {
          "base_uri": "https://localhost:8080/",
          "height": 334
        },
        "id": "nxaO00_1AG10",
        "outputId": "ad7bca69-d1b3-4951-f625-03dd515d3935"
      },
      "source": [
        "#from numpy imprort linspace\n",
        "n_iter = np.linspace(1,500)\n",
        "scores = np.array([])\n",
        "for n in n_iter:\n",
        "  model = SGDClassifier(loss=\"log\", penalty=\"l1\", max_iter=n, random_state=0)\n",
        "  model.fit(X_train, y_train)\n",
        "  scores=np.append(scores,model.score(X_test, y_test))\n",
        "plt.plot(n_iter, scores)\n",
        "plt.xlabel('Number of iterations')\n",
        "plt.ylabel('Accuracy')\n",
        "plt.show()"
      ],
      "execution_count": null,
      "outputs": [
        {
          "output_type": "stream",
          "text": [
            "C:\\Users\\ronal\\Anaconda3\\lib\\site-packages\\sklearn\\linear_model\\stochastic_gradient.py:561: ConvergenceWarning: Maximum number of iteration reached before convergence. Consider increasing max_iter to improve the fit.\n",
            "  ConvergenceWarning)\n"
          ],
          "name": "stderr"
        },
        {
          "output_type": "display_data",
          "data": {
            "image/png": "[encoded data removed]",
            "text/plain": [
              "<Figure size 432x288 with 1 Axes>"
            ]
          },
          "metadata": {
            "tags": [],
            "needs_background": "light"
          }
        }
      ]
    },
    {
      "cell_type": "code",
      "metadata": {
        "id": "5jFxvJ1RG0Hx",
        "outputId": "29d4d59d-ec0d-48d3-beb7-e7675d28be29"
      },
      "source": [
        "#from numpy imprort linspace\n",
        "n_iter = np.linspace(1,80)\n",
        "scores = np.array([])\n",
        "for n in n_iter:\n",
        "  model = SGDClassifier(loss=\"log\", penalty=\"l1\", max_iter=n, random_state=0)\n",
        "  model.fit(X_train, y_train)\n",
        "  scores=np.append(scores,model.score(X_test, y_test))\n",
        "plt.plot(n_iter, scores)\n",
        "plt.xlabel('Number of iterations')\n",
        "plt.ylabel('Accuracy')\n",
        "plt.show()"
      ],
      "execution_count": null,
      "outputs": [
        {
          "output_type": "stream",
          "text": [
            "C:\\Users\\ronal\\Anaconda3\\lib\\site-packages\\sklearn\\linear_model\\stochastic_gradient.py:561: ConvergenceWarning: Maximum number of iteration reached before convergence. Consider increasing max_iter to improve the fit.\n",
            "  ConvergenceWarning)\n"
          ],
          "name": "stderr"
        },
        {
          "output_type": "display_data",
          "data": {
            "image/png": "[encoded data removed]",
            "text/plain": [
              "<Figure size 432x288 with 1 Axes>"
            ]
          },
          "metadata": {
            "tags": [],
            "needs_background": "light"
          }
        }
      ]
    },
    {
      "cell_type": "code",
      "metadata": {
        "id": "I8yF93yLh01v"
      },
      "source": [
        "model = SGDClassifier(loss=\"log\", penalty=\"l1\", max_iter=80)"
      ],
      "execution_count": null,
      "outputs": []
    },
    {
      "cell_type": "code",
      "metadata": {
        "id": "g_5OA6YJG0Hx"
      },
      "source": [
        "from sklearn.linear_model import SGDRegressor"
      ],
      "execution_count": null,
      "outputs": []
    },
    {
      "cell_type": "code",
      "metadata": {
        "id": "sNDyYmHmG0Hx"
      },
      "source": [
        "#model1 = SGDRegressor(loss=\"log\", penalty=\"l1\", max_iter=100)"
      ],
      "execution_count": null,
      "outputs": []
    },
    {
      "cell_type": "code",
      "metadata": {
        "colab": {
          "base_uri": "https://localhost:8080/"
        },
        "id": "64EH-puL94pn",
        "outputId": "93cfaac9-21ff-4853-9993-e7ad9b76817d"
      },
      "source": [
        "model.fit(X_train,y_train)"
      ],
      "execution_count": null,
      "outputs": [
        {
          "output_type": "execute_result",
          "data": {
            "text/plain": [
              "SGDClassifier(alpha=0.0001, average=False, class_weight=None,\n",
              "              early_stopping=False, epsilon=0.1, eta0=0.0, fit_intercept=True,\n",
              "              l1_ratio=0.15, learning_rate='optimal', loss='log', max_iter=80,\n",
              "              n_iter_no_change=5, n_jobs=None, penalty='l1', power_t=0.5,\n",
              "              random_state=None, shuffle=True, tol=0.001,\n",
              "              validation_fraction=0.1, verbose=0, warm_start=False)"
            ]
          },
          "metadata": {
            "tags": []
          },
          "execution_count": 103
        }
      ]
    },
    {
      "cell_type": "code",
      "metadata": {
        "id": "2uF5arZ3-RwL"
      },
      "source": [
        "y_pred_S= model.predict(X_test)"
      ],
      "execution_count": null,
      "outputs": []
    },
    {
      "cell_type": "code",
      "metadata": {
        "colab": {
          "base_uri": "https://localhost:8080/"
        },
        "id": "oLtlxM5-e5gx",
        "outputId": "cd20fb34-bcb8-4b17-d5b5-792b1e9e3ec8"
      },
      "source": [
        "from sklearn import metrics\n",
        "cnf_matrix = metrics.confusion_matrix(y_test, y_pred_S)\n",
        "cnf_matrix"
      ],
      "execution_count": null,
      "outputs": [
        {
          "output_type": "execute_result",
          "data": {
            "text/plain": [
              "array([[6965,  466],\n",
              "       [ 563, 1275]], dtype=int64)"
            ]
          },
          "metadata": {
            "tags": []
          },
          "execution_count": 105
        }
      ]
    },
    {
      "cell_type": "code",
      "metadata": {
        "colab": {
          "base_uri": "https://localhost:8080/"
        },
        "id": "mLlbhvv0-zK4",
        "outputId": "b6aa9591-9b32-43af-d84b-ea5b4b27ce15"
      },
      "source": [
        "print(\"Accuracy:\",metrics.accuracy_score(y_test, y_pred_S))\n",
        "print(\"Precision:\",metrics.precision_score(y_test, y_pred_S))\n",
        "print(\"Recall:\",metrics.recall_score(y_test, y_pred_S))\n",
        "print(\"F1:\",metrics.f1_score(y_test, y_pred_S))"
      ],
      "execution_count": null,
      "outputs": [
        {
          "output_type": "stream",
          "text": [
            "Accuracy: 0.8889847880030208\n",
            "Precision: 0.7323377369327972\n",
            "Recall: 0.6936887921653971\n",
            "F1: 0.7124895222129086\n"
          ],
          "name": "stdout"
        }
      ]
    },
    {
      "cell_type": "code",
      "metadata": {
        "scrolled": true,
        "id": "fEI9bEe7G0Hz",
        "outputId": "3d71e07f-11c7-4b41-834d-1d6ca66cd0fc"
      },
      "source": [
        "y_pred_proba = model.predict_proba(X_test)[::,1]\n",
        "fpr, tpr, _ = metrics.roc_curve(y_test,  y_pred_proba)\n",
        "auc = metrics.roc_auc_score(y_test, y_pred_proba)\n",
        "plt.plot(fpr,tpr,label=\"data 1, auc=\"+str(auc))\n",
        "plt.legend(loc=4)\n",
        "plt.show()"
      ],
      "execution_count": null,
      "outputs": [
        {
          "output_type": "display_data",
          "data": {
            "image/png": "[encoded data removed]",
            "text/plain": [
              "<Figure size 432x288 with 1 Axes>"
            ]
          },
          "metadata": {
            "tags": [],
            "needs_background": "light"
          }
        }
      ]
    },
    {
      "cell_type": "markdown",
      "metadata": {
        "id": "2j53ZmpOG0Hz"
      },
      "source": [
        "# Precision recall score "
      ]
    },
    {
      "cell_type": "code",
      "metadata": {
        "id": "3CiWfZ7LG0Hz",
        "outputId": "ad05bb67-0b74-45e7-c57d-38b1ba8392fc"
      },
      "source": [
        "from sklearn.metrics import average_precision_score\n",
        "average_precision = average_precision_score(y_test, y_pred1)\n",
        "\n",
        "print('Average precision-recall score: {0:0.2f}'.format(\n",
        "      average_precision))"
      ],
      "execution_count": null,
      "outputs": [
        {
          "output_type": "stream",
          "text": [
            "Average precision-recall score: 0.57\n"
          ],
          "name": "stdout"
        }
      ]
    },
    {
      "cell_type": "code",
      "metadata": {
        "id": "m5SNql17G0Hz"
      },
      "source": [
        "from sklearn.model_selection import cross_val_score"
      ],
      "execution_count": null,
      "outputs": []
    },
    {
      "cell_type": "code",
      "metadata": {
        "id": "fWQOal87G0H0"
      },
      "source": [
        "scores_5=cross_val_score(model,X_test, y_test,cv=5)\n",
        "scores_5"
      ],
      "execution_count": null,
      "outputs": []
    },
    {
      "cell_type": "code",
      "metadata": {
        "id": "J6RbCqGzG0H0"
      },
      "source": [
        "from sklearn.model_selection import cross_val_predict"
      ],
      "execution_count": null,
      "outputs": []
    },
    {
      "cell_type": "markdown",
      "metadata": {
        "id": "FrOaFxaHG0H0"
      },
      "source": [
        "Stochastic gradient descent for CV=5"
      ]
    },
    {
      "cell_type": "code",
      "metadata": {
        "id": "QYc2w9oyG0H0"
      },
      "source": [
        "pred_5 = cross_val_predict(model,X_test,y_test,cv=5)"
      ],
      "execution_count": null,
      "outputs": []
    },
    {
      "cell_type": "code",
      "metadata": {
        "id": "l7TCszC4G0H0"
      },
      "source": [
        "pred"
      ],
      "execution_count": null,
      "outputs": []
    },
    {
      "cell_type": "code",
      "metadata": {
        "id": "nCeutISEG0H1",
        "outputId": "8194dbfd-bdf2-4a44-e386-4cfc737efcde"
      },
      "source": [
        "scores_5.mean()"
      ],
      "execution_count": null,
      "outputs": [
        {
          "output_type": "execute_result",
          "data": {
            "text/plain": [
              "0.8771156110202488"
            ]
          },
          "metadata": {
            "tags": []
          },
          "execution_count": 114
        }
      ]
    },
    {
      "cell_type": "code",
      "metadata": {
        "id": "PcZG3QPZG0H1"
      },
      "source": [
        "%pip install parfit"
      ],
      "execution_count": null,
      "outputs": []
    },
    {
      "cell_type": "code",
      "metadata": {
        "id": "bPOclmvuG0H1"
      },
      "source": [
        "%pip install git+https://github.com/hyperopt/hyperopt-sklearn.git"
      ],
      "execution_count": null,
      "outputs": []
    },
    {
      "cell_type": "markdown",
      "metadata": {
        "id": "QQyRKzlWG0H1"
      },
      "source": [
        "# SGD classifier Ridge and Lass and tunning the parameter for optimal alpha thats learning rate "
      ]
    },
    {
      "cell_type": "markdown",
      "metadata": {
        "id": "s1IQeLXmG0H1"
      },
      "source": [
        "We have used grid search to find the optimum paramters "
      ]
    },
    {
      "cell_type": "code",
      "metadata": {
        "id": "Y0OmWnesG0H1",
        "outputId": "8b4dfb02-7961-4e03-ab2f-4b6c78a50362"
      },
      "source": [
        "from sklearn.model_selection import ParameterGrid\n",
        "from sklearn.linear_model import SGDClassifier\n",
        "from sklearn.metrics import roc_auc_score\n",
        "import parfit.parfit as pf\n",
        "\n",
        "grid = {\n",
        "    'alpha': [1e-4, 1e-3, 1e-2, 1e-1, 1e0], # learning rate\n",
        "    #'n_iter': [1000], # number of epochs\n",
        "    'loss': ['log'], # logistic regression,\n",
        "    'penalty': ['l1','l2'],\n",
        "    'n_jobs': [-1]\n",
        "}\n",
        "paramGrid = ParameterGrid(grid)\n",
        "best_model, best_score, all_models, all_scores = pf.bestFit(SGDClassifier, paramGrid, \n",
        "     X_train, y_train, X_test, y_test, \n",
        "     metric=roc_auc_score, scoreLabel='AUC')\n",
        "print(best_model)\n",
        "#print(bestModel"
      ],
      "execution_count": null,
      "outputs": [
        {
          "output_type": "stream",
          "text": [
            "-------------FITTING MODELS-------------\n"
          ],
          "name": "stdout"
        },
        {
          "output_type": "stream",
          "text": [
            "[Parallel(n_jobs=-1)]: Using backend LokyBackend with 8 concurrent workers.\n",
            "[Parallel(n_jobs=-1)]: Done   3 out of  10 | elapsed:    5.4s remaining:   12.7s\n",
            "[Parallel(n_jobs=-1)]: Done   5 out of  10 | elapsed:    5.6s remaining:    5.6s\n",
            "[Parallel(n_jobs=-1)]: Done   7 out of  10 | elapsed:    5.6s remaining:    2.4s\n",
            "[Parallel(n_jobs=-1)]: Done  10 out of  10 | elapsed:   16.9s finished\n",
            "[Parallel(n_jobs=-1)]: Using backend LokyBackend with 8 concurrent workers.\n",
            "[Parallel(n_jobs=-1)]: Done   6 out of  10 | elapsed:    0.0s remaining:    0.0s\n"
          ],
          "name": "stderr"
        },
        {
          "output_type": "stream",
          "text": [
            "-------------SCORING MODELS-------------\n"
          ],
          "name": "stdout"
        },
        {
          "output_type": "stream",
          "text": [
            "[Parallel(n_jobs=-1)]: Done  10 out of  10 | elapsed:    0.0s finished\n"
          ],
          "name": "stderr"
        },
        {
          "output_type": "display_data",
          "data": {
            "image/png": "[encoded data removed]",
            "text/plain": [
              "<Figure size 144x288 with 2 Axes>"
            ]
          },
          "metadata": {
            "tags": [],
            "needs_background": "light"
          }
        },
        {
          "output_type": "stream",
          "text": [
            "SGDClassifier(alpha=0.001, average=False, class_weight=None,\n",
            "              early_stopping=False, epsilon=0.1, eta0=0.0, fit_intercept=True,\n",
            "              l1_ratio=0.15, learning_rate='optimal', loss='log', max_iter=1000,\n",
            "              n_iter_no_change=5, n_jobs=-1, penalty='l2', power_t=0.5,\n",
            "              random_state=None, shuffle=True, tol=0.001,\n",
            "              validation_fraction=0.1, verbose=0, warm_start=False)\n"
          ],
          "name": "stdout"
        }
      ]
    },
    {
      "cell_type": "markdown",
      "metadata": {
        "id": "XJ86e4aaG0H2"
      },
      "source": [
        "Copying the above parameter for the below"
      ]
    },
    {
      "cell_type": "code",
      "metadata": {
        "id": "4YxmZgXSG0H2"
      },
      "source": [
        "model2= SGDClassifier(alpha=0.01, average=False, class_weight=None,\n",
        "              early_stopping=False, epsilon=0.1, eta0=0.0, fit_intercept=True,\n",
        "              l1_ratio=0.15, learning_rate='optimal', loss='log', max_iter=1000,\n",
        "              n_iter_no_change=5, n_jobs=-1, penalty='l2', power_t=0.5,\n",
        "              random_state=None, shuffle=True, tol=0.001,\n",
        "              validation_fraction=0.1, verbose=0, warm_start=False)"
      ],
      "execution_count": null,
      "outputs": []
    },
    {
      "cell_type": "code",
      "metadata": {
        "id": "2ETBeg5mG0H2"
      },
      "source": [
        "model3= SGDClassifier(alpha=0.001, average=False, class_weight=None,\n",
        "              early_stopping=False, epsilon=0.1, eta0=0.0, fit_intercept=True,\n",
        "              l1_ratio=0.15, learning_rate='optimal', loss='log', max_iter=n,\n",
        "              n_iter_no_change=5, n_jobs=-1, penalty='l2', power_t=0.5,\n",
        "              random_state=None, shuffle=True, tol=0.001,\n",
        "              validation_fraction=0.1, verbose=0, warm_start=False)"
      ],
      "execution_count": null,
      "outputs": []
    },
    {
      "cell_type": "code",
      "metadata": {
        "id": "cBL_n1HKG0H2",
        "outputId": "782baebe-969c-44e1-ab77-2edf94a648a7"
      },
      "source": [
        "#from numpy imprort linspace\n",
        "max_iter = np.linspace(1,3000)\n",
        "scores = np.array([])\n",
        "for n in n_iter:\n",
        "    model2\n",
        "    model2.fit(X_train, y_train)\n",
        "    scores=np.append(scores,model.score(X_test, y_test))\n",
        "plt.plot(max_iter, scores)\n",
        "plt.xlabel('Number of iterations')\n",
        "plt.ylabel('Accuracy')\n",
        "plt.show()"
      ],
      "execution_count": null,
      "outputs": [
        {
          "output_type": "display_data",
          "data": {
            "image/png": "[encoded data removed]",
            "text/plain": [
              "<Figure size 432x288 with 1 Axes>"
            ]
          },
          "metadata": {
            "tags": [],
            "needs_background": "light"
          }
        }
      ]
    },
    {
      "cell_type": "code",
      "metadata": {
        "id": "YB1sshibG0H2",
        "outputId": "d61b9d0e-cd1d-44fa-fd3d-9678c9762817"
      },
      "source": [
        "model2.fit(X_train,y_train)"
      ],
      "execution_count": null,
      "outputs": [
        {
          "output_type": "execute_result",
          "data": {
            "text/plain": [
              "SGDClassifier(alpha=0.01, average=False, class_weight=None,\n",
              "              early_stopping=False, epsilon=0.1, eta0=0.0, fit_intercept=True,\n",
              "              l1_ratio=0.15, learning_rate='optimal', loss='log', max_iter=1000,\n",
              "              n_iter_no_change=5, n_jobs=-1, penalty='l2', power_t=0.5,\n",
              "              random_state=None, shuffle=True, tol=0.001,\n",
              "              validation_fraction=0.1, verbose=0, warm_start=False)"
            ]
          },
          "metadata": {
            "tags": []
          },
          "execution_count": 129
        }
      ]
    },
    {
      "cell_type": "code",
      "metadata": {
        "id": "NSL9EMV8G0H3"
      },
      "source": [
        "y_pred2= model2.predict(X_test)\n"
      ],
      "execution_count": null,
      "outputs": []
    },
    {
      "cell_type": "code",
      "metadata": {
        "id": "QolCGsHrG0H3",
        "outputId": "43ff4530-a000-4369-9d45-aad17a5200bb"
      },
      "source": [
        "from sklearn import metrics\n",
        "cnf_matrix2 = metrics.confusion_matrix(y_test, y_pred2)\n",
        "cnf_matrix2\n"
      ],
      "execution_count": null,
      "outputs": [
        {
          "output_type": "execute_result",
          "data": {
            "text/plain": [
              "array([[7101,  330],\n",
              "       [ 743, 1095]], dtype=int64)"
            ]
          },
          "metadata": {
            "tags": []
          },
          "execution_count": 131
        }
      ]
    },
    {
      "cell_type": "code",
      "metadata": {
        "id": "rqlOmk32G0H3",
        "outputId": "264898b5-16f7-4c38-86f8-fbd2f7880e57"
      },
      "source": [
        "print(\"Accuracy:\",metrics.accuracy_score(y_test, y_pred2))\n",
        "print(\"Precision:\",metrics.precision_score(y_test, y_pred2))\n",
        "print(\"Recall:\",metrics.recall_score(y_test, y_pred2))\n",
        "print(\"F1:\",metrics.f1_score(y_test, y_pred2))\n"
      ],
      "execution_count": null,
      "outputs": [
        {
          "output_type": "stream",
          "text": [
            "Accuracy: 0.8842377818534901\n",
            "Precision: 0.7684210526315789\n",
            "Recall: 0.5957562568008705\n",
            "F1: 0.6711615078148943\n"
          ],
          "name": "stdout"
        }
      ]
    },
    {
      "cell_type": "code",
      "metadata": {
        "id": "m_w3FCh2G0H4",
        "outputId": "40cfcc0c-4a61-40e6-acde-68964a44cc73"
      },
      "source": [
        "y_pred_proba = model2.predict_proba(X_test)[::,1]\n",
        "fpr, tpr, _ = metrics.roc_curve(y_test,  y_pred_proba)\n",
        "auc = metrics.roc_auc_score(y_test, y_pred_proba)\n",
        "plt.plot(fpr,tpr,label=\"data 1, auc=\"+str(auc))\n",
        "plt.legend(loc=4)\n",
        "plt.show()"
      ],
      "execution_count": null,
      "outputs": [
        {
          "output_type": "display_data",
          "data": {
            "image/png": "[encoded data removed]",
            "text/plain": [
              "<Figure size 432x288 with 1 Axes>"
            ]
          },
          "metadata": {
            "tags": [],
            "needs_background": "light"
          }
        }
      ]
    }
  ]
}